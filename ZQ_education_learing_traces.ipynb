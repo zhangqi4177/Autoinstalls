{
 "cells": [
  {
   "cell_type": "markdown",
   "metadata": {},
   "source": [
    "# Project 5 - Exploration Data Analysis and Visualization"
   ]
  },
  {
   "cell_type": "markdown",
   "metadata": {},
   "source": [
    "Exploratory data analysis (EDA) is an approach for summarizing and visualizing the important characteristics of a data set. It gives us more understanding of the data’s underlying structure and variables before feature engineering, formal modeling, model tuning, and other data analysis techniques. In this mini project, you will be introduced to some ways to explore data efficiently with different packages so that you can develop intuition about your data set:\n",
    "* Import and briefly check data with python data manipulation tools Pandas\n",
    "* Get basic description of data, descriptive statistics, checking rows and columns.\n",
    "* Time series analysis\n",
    "* Simple predictive modeling\n",
    "* Discover patterns in data by visualizing data with python data visualization packages sucha as Matplotlib, and Seaborn, or by using functions to compute the correlation between features."
   ]
  },
  {
   "cell_type": "markdown",
   "metadata": {},
   "source": [
    "### Dataset\n",
    "* The data set we are going to be using is from a language learning application on smartphones. It contains user info, lexeme info and session info. We have already joined them into one single table for our analysis purpose."
   ]
  },
  {
   "cell_type": "markdown",
   "metadata": {},
   "source": [
    "### General Philosophy and Steps for this project\n",
    " - Data preparation: load all needed dependencies and packages, setup plot style\n",
    " - Data Import: load data to pandas dataframe and check\n",
    " - Post questions: propose hypothesis based on your intuition\n",
    " - Visualization: Test you intuition and hypothesis using python visualization packages, such as Matplotlib."
   ]
  },
  {
   "cell_type": "markdown",
   "metadata": {},
   "source": [
    "## Duolingo Exploratory Data Analysis"
   ]
  },
  {
   "cell_type": "code",
   "execution_count": 1,
   "metadata": {},
   "outputs": [],
   "source": [
    "# Import all dependencies we need \n",
    "import pandas as pd\n",
    "import numpy as np\n",
    "import matplotlib.pyplot as plt\n",
    "plt.style.use('ggplot')\n",
    "\n",
    "import datetime as dt\n",
    "import seaborn as sns\n",
    "%matplotlib inline "
   ]
  },
  {
   "cell_type": "code",
   "execution_count": 2,
   "metadata": {},
   "outputs": [
    {
     "name": "stdout",
     "output_type": "stream",
     "text": [
      "['Solarize_Light2', '_classic_test_patch', '_mpl-gallery', '_mpl-gallery-nogrid', 'bmh', 'classic', 'dark_background', 'fast', 'fivethirtyeight', 'ggplot', 'grayscale', 'seaborn', 'seaborn-bright', 'seaborn-colorblind', 'seaborn-dark', 'seaborn-dark-palette', 'seaborn-darkgrid', 'seaborn-deep', 'seaborn-muted', 'seaborn-notebook', 'seaborn-paper', 'seaborn-pastel', 'seaborn-poster', 'seaborn-talk', 'seaborn-ticks', 'seaborn-white', 'seaborn-whitegrid', 'tableau-colorblind10']\n"
     ]
    }
   ],
   "source": [
    "# avaliable plot styles\n",
    "print(plt.style.available)"
   ]
  },
  {
   "cell_type": "markdown",
   "metadata": {},
   "source": [
    "### Import data"
   ]
  },
  {
   "cell_type": "code",
   "execution_count": 3,
   "metadata": {},
   "outputs": [],
   "source": [
    "# Since this dataset is 1.3G and we only take a look of first 1000000 rows #\n",
    "pro_5 = pd.read_csv('learning_traces.13m.csv', nrows=1000000)"
   ]
  },
  {
   "cell_type": "code",
   "execution_count": 4,
   "metadata": {},
   "outputs": [
    {
     "data": {
      "text/html": [
       "<div>\n",
       "<style scoped>\n",
       "    .dataframe tbody tr th:only-of-type {\n",
       "        vertical-align: middle;\n",
       "    }\n",
       "\n",
       "    .dataframe tbody tr th {\n",
       "        vertical-align: top;\n",
       "    }\n",
       "\n",
       "    .dataframe thead th {\n",
       "        text-align: right;\n",
       "    }\n",
       "</style>\n",
       "<table border=\"1\" class=\"dataframe\">\n",
       "  <thead>\n",
       "    <tr style=\"text-align: right;\">\n",
       "      <th></th>\n",
       "      <th>p_recall</th>\n",
       "      <th>timestamp</th>\n",
       "      <th>delta</th>\n",
       "      <th>user_id</th>\n",
       "      <th>learning_language</th>\n",
       "      <th>ui_language</th>\n",
       "      <th>lexeme_id</th>\n",
       "      <th>lexeme_string</th>\n",
       "      <th>history_seen</th>\n",
       "      <th>history_correct</th>\n",
       "      <th>session_seen</th>\n",
       "      <th>session_correct</th>\n",
       "    </tr>\n",
       "  </thead>\n",
       "  <tbody>\n",
       "    <tr>\n",
       "      <th>0</th>\n",
       "      <td>1.0</td>\n",
       "      <td>1362076081</td>\n",
       "      <td>27649635</td>\n",
       "      <td>u:FO</td>\n",
       "      <td>de</td>\n",
       "      <td>en</td>\n",
       "      <td>76390c1350a8dac31186187e2fe1e178</td>\n",
       "      <td>lernt/lernen&lt;vblex&gt;&lt;pri&gt;&lt;p3&gt;&lt;sg&gt;</td>\n",
       "      <td>6</td>\n",
       "      <td>4</td>\n",
       "      <td>2</td>\n",
       "      <td>2</td>\n",
       "    </tr>\n",
       "    <tr>\n",
       "      <th>1</th>\n",
       "      <td>0.5</td>\n",
       "      <td>1362076081</td>\n",
       "      <td>27649635</td>\n",
       "      <td>u:FO</td>\n",
       "      <td>de</td>\n",
       "      <td>en</td>\n",
       "      <td>7dfd7086f3671685e2cf1c1da72796d7</td>\n",
       "      <td>die/die&lt;det&gt;&lt;def&gt;&lt;f&gt;&lt;sg&gt;&lt;nom&gt;</td>\n",
       "      <td>4</td>\n",
       "      <td>4</td>\n",
       "      <td>2</td>\n",
       "      <td>1</td>\n",
       "    </tr>\n",
       "    <tr>\n",
       "      <th>2</th>\n",
       "      <td>1.0</td>\n",
       "      <td>1362076081</td>\n",
       "      <td>27649635</td>\n",
       "      <td>u:FO</td>\n",
       "      <td>de</td>\n",
       "      <td>en</td>\n",
       "      <td>35a54c25a2cda8127343f6a82e6f6b7d</td>\n",
       "      <td>mann/mann&lt;n&gt;&lt;m&gt;&lt;sg&gt;&lt;nom&gt;</td>\n",
       "      <td>5</td>\n",
       "      <td>4</td>\n",
       "      <td>1</td>\n",
       "      <td>1</td>\n",
       "    </tr>\n",
       "    <tr>\n",
       "      <th>3</th>\n",
       "      <td>0.5</td>\n",
       "      <td>1362076081</td>\n",
       "      <td>27649635</td>\n",
       "      <td>u:FO</td>\n",
       "      <td>de</td>\n",
       "      <td>en</td>\n",
       "      <td>0cf63ffe3dda158bc3dbd55682b355ae</td>\n",
       "      <td>frau/frau&lt;n&gt;&lt;f&gt;&lt;sg&gt;&lt;nom&gt;</td>\n",
       "      <td>6</td>\n",
       "      <td>5</td>\n",
       "      <td>2</td>\n",
       "      <td>1</td>\n",
       "    </tr>\n",
       "    <tr>\n",
       "      <th>4</th>\n",
       "      <td>1.0</td>\n",
       "      <td>1362076081</td>\n",
       "      <td>27649635</td>\n",
       "      <td>u:FO</td>\n",
       "      <td>de</td>\n",
       "      <td>en</td>\n",
       "      <td>84920990d78044db53c1b012f5bf9ab5</td>\n",
       "      <td>das/das&lt;det&gt;&lt;def&gt;&lt;nt&gt;&lt;sg&gt;&lt;nom&gt;</td>\n",
       "      <td>4</td>\n",
       "      <td>4</td>\n",
       "      <td>1</td>\n",
       "      <td>1</td>\n",
       "    </tr>\n",
       "  </tbody>\n",
       "</table>\n",
       "</div>"
      ],
      "text/plain": [
       "   p_recall   timestamp     delta user_id learning_language ui_language  \\\n",
       "0       1.0  1362076081  27649635    u:FO                de          en   \n",
       "1       0.5  1362076081  27649635    u:FO                de          en   \n",
       "2       1.0  1362076081  27649635    u:FO                de          en   \n",
       "3       0.5  1362076081  27649635    u:FO                de          en   \n",
       "4       1.0  1362076081  27649635    u:FO                de          en   \n",
       "\n",
       "                          lexeme_id                     lexeme_string  \\\n",
       "0  76390c1350a8dac31186187e2fe1e178  lernt/lernen<vblex><pri><p3><sg>   \n",
       "1  7dfd7086f3671685e2cf1c1da72796d7     die/die<det><def><f><sg><nom>   \n",
       "2  35a54c25a2cda8127343f6a82e6f6b7d          mann/mann<n><m><sg><nom>   \n",
       "3  0cf63ffe3dda158bc3dbd55682b355ae          frau/frau<n><f><sg><nom>   \n",
       "4  84920990d78044db53c1b012f5bf9ab5    das/das<det><def><nt><sg><nom>   \n",
       "\n",
       "   history_seen  history_correct  session_seen  session_correct  \n",
       "0             6                4             2                2  \n",
       "1             4                4             2                1  \n",
       "2             5                4             1                1  \n",
       "3             6                5             2                1  \n",
       "4             4                4             1                1  "
      ]
     },
     "execution_count": 4,
     "metadata": {},
     "output_type": "execute_result"
    }
   ],
   "source": [
    "# Print out the head of our dataset\n",
    "pro_5.head()"
   ]
  },
  {
   "cell_type": "code",
   "execution_count": 5,
   "metadata": {},
   "outputs": [
    {
     "name": "stdout",
     "output_type": "stream",
     "text": [
      "<class 'pandas.core.frame.DataFrame'>\n",
      "RangeIndex: 1000000 entries, 0 to 999999\n",
      "Data columns (total 12 columns):\n",
      " #   Column             Non-Null Count    Dtype  \n",
      "---  ------             --------------    -----  \n",
      " 0   p_recall           1000000 non-null  float64\n",
      " 1   timestamp          1000000 non-null  int64  \n",
      " 2   delta              1000000 non-null  int64  \n",
      " 3   user_id            1000000 non-null  object \n",
      " 4   learning_language  1000000 non-null  object \n",
      " 5   ui_language        1000000 non-null  object \n",
      " 6   lexeme_id          1000000 non-null  object \n",
      " 7   lexeme_string      1000000 non-null  object \n",
      " 8   history_seen       1000000 non-null  int64  \n",
      " 9   history_correct    1000000 non-null  int64  \n",
      " 10  session_seen       1000000 non-null  int64  \n",
      " 11  session_correct    1000000 non-null  int64  \n",
      "dtypes: float64(1), int64(6), object(5)\n",
      "memory usage: 91.6+ MB\n"
     ]
    }
   ],
   "source": [
    "# Check the infomation of our data, such as columns, data type #\n",
    "pro_5.info()"
   ]
  },
  {
   "cell_type": "code",
   "execution_count": 6,
   "metadata": {},
   "outputs": [
    {
     "data": {
      "text/plain": [
       "(1000000, 12)"
      ]
     },
     "execution_count": 6,
     "metadata": {},
     "output_type": "execute_result"
    }
   ],
   "source": [
    "pro_5.shape"
   ]
  },
  {
   "cell_type": "code",
   "execution_count": 7,
   "metadata": {},
   "outputs": [
    {
     "data": {
      "text/plain": [
       "0"
      ]
     },
     "execution_count": 7,
     "metadata": {},
     "output_type": "execute_result"
    }
   ],
   "source": [
    "pro_5.isnull().sum().sum()"
   ]
  },
  {
   "cell_type": "code",
   "execution_count": 8,
   "metadata": {},
   "outputs": [
    {
     "data": {
      "text/plain": [
       "p_recall             float64\n",
       "timestamp              int64\n",
       "delta                  int64\n",
       "user_id               object\n",
       "learning_language     object\n",
       "ui_language           object\n",
       "lexeme_id             object\n",
       "lexeme_string         object\n",
       "history_seen           int64\n",
       "history_correct        int64\n",
       "session_seen           int64\n",
       "session_correct        int64\n",
       "dtype: object"
      ]
     },
     "execution_count": 8,
     "metadata": {},
     "output_type": "execute_result"
    }
   ],
   "source": [
    "pro_5.dtypes"
   ]
  },
  {
   "cell_type": "markdown",
   "metadata": {},
   "source": [
    "#### Please try to answer the following questions when you follow the data visualization procedures below:"
   ]
  },
  {
   "cell_type": "markdown",
   "metadata": {},
   "source": [
    " - How many users are there from every country?\n",
    " - How many different languages are being studied\n",
    " - Are there differences between users from different coutries\n",
    " - Time series analysis \n",
    "     - temporal behaviour of users\n",
    "     - when do people study?\n",
    "     - how often do they study\n",
    "     - timestamp\n",
    " - Predictive modelling\n",
    "     - corellations of p_recall with various features  "
   ]
  },
  {
   "cell_type": "markdown",
   "metadata": {},
   "source": [
    "### Numerical data"
   ]
  },
  {
   "cell_type": "code",
   "execution_count": 9,
   "metadata": {},
   "outputs": [
    {
     "name": "stdout",
     "output_type": "stream",
     "text": [
      "[dtype('int64'), dtype('O'), dtype('float64')]\n",
      "Numerical features: ['timestamp', 'delta', 'history_seen', 'history_correct', 'session_seen', 'session_correct', 'p_recall']\n"
     ]
    }
   ],
   "source": [
    "# list all types that only take numerical ones\n",
    "print(list(set(pro_5.dtypes.tolist())))\n",
    "data_types = pro_5.dtypes  \n",
    "num_cols = list(data_types[data_types=='int64'].index) + list(data_types[data_types=='float64'].index)\n",
    "print ( \"Numerical features:\", num_cols)"
   ]
  },
  {
   "cell_type": "markdown",
   "metadata": {},
   "source": [
    "#### 1. Create a dataframe that only takes numerical data and show the head"
   ]
  },
  {
   "cell_type": "code",
   "execution_count": 10,
   "metadata": {
    "scrolled": true
   },
   "outputs": [
    {
     "data": {
      "text/html": [
       "<div>\n",
       "<style scoped>\n",
       "    .dataframe tbody tr th:only-of-type {\n",
       "        vertical-align: middle;\n",
       "    }\n",
       "\n",
       "    .dataframe tbody tr th {\n",
       "        vertical-align: top;\n",
       "    }\n",
       "\n",
       "    .dataframe thead th {\n",
       "        text-align: right;\n",
       "    }\n",
       "</style>\n",
       "<table border=\"1\" class=\"dataframe\">\n",
       "  <thead>\n",
       "    <tr style=\"text-align: right;\">\n",
       "      <th></th>\n",
       "      <th>p_recall</th>\n",
       "      <th>timestamp</th>\n",
       "      <th>delta</th>\n",
       "      <th>history_seen</th>\n",
       "      <th>history_correct</th>\n",
       "      <th>session_seen</th>\n",
       "      <th>session_correct</th>\n",
       "    </tr>\n",
       "  </thead>\n",
       "  <tbody>\n",
       "    <tr>\n",
       "      <th>0</th>\n",
       "      <td>1.00</td>\n",
       "      <td>1362076081</td>\n",
       "      <td>27649635</td>\n",
       "      <td>6</td>\n",
       "      <td>4</td>\n",
       "      <td>2</td>\n",
       "      <td>2</td>\n",
       "    </tr>\n",
       "    <tr>\n",
       "      <th>1</th>\n",
       "      <td>0.50</td>\n",
       "      <td>1362076081</td>\n",
       "      <td>27649635</td>\n",
       "      <td>4</td>\n",
       "      <td>4</td>\n",
       "      <td>2</td>\n",
       "      <td>1</td>\n",
       "    </tr>\n",
       "    <tr>\n",
       "      <th>2</th>\n",
       "      <td>1.00</td>\n",
       "      <td>1362076081</td>\n",
       "      <td>27649635</td>\n",
       "      <td>5</td>\n",
       "      <td>4</td>\n",
       "      <td>1</td>\n",
       "      <td>1</td>\n",
       "    </tr>\n",
       "    <tr>\n",
       "      <th>3</th>\n",
       "      <td>0.50</td>\n",
       "      <td>1362076081</td>\n",
       "      <td>27649635</td>\n",
       "      <td>6</td>\n",
       "      <td>5</td>\n",
       "      <td>2</td>\n",
       "      <td>1</td>\n",
       "    </tr>\n",
       "    <tr>\n",
       "      <th>4</th>\n",
       "      <td>1.00</td>\n",
       "      <td>1362076081</td>\n",
       "      <td>27649635</td>\n",
       "      <td>4</td>\n",
       "      <td>4</td>\n",
       "      <td>1</td>\n",
       "      <td>1</td>\n",
       "    </tr>\n",
       "    <tr>\n",
       "      <th>5</th>\n",
       "      <td>1.00</td>\n",
       "      <td>1362076081</td>\n",
       "      <td>27649635</td>\n",
       "      <td>4</td>\n",
       "      <td>3</td>\n",
       "      <td>1</td>\n",
       "      <td>1</td>\n",
       "    </tr>\n",
       "    <tr>\n",
       "      <th>6</th>\n",
       "      <td>1.00</td>\n",
       "      <td>1362076081</td>\n",
       "      <td>27649635</td>\n",
       "      <td>4</td>\n",
       "      <td>4</td>\n",
       "      <td>1</td>\n",
       "      <td>1</td>\n",
       "    </tr>\n",
       "    <tr>\n",
       "      <th>7</th>\n",
       "      <td>1.00</td>\n",
       "      <td>1362082032</td>\n",
       "      <td>444407</td>\n",
       "      <td>3</td>\n",
       "      <td>3</td>\n",
       "      <td>1</td>\n",
       "      <td>1</td>\n",
       "    </tr>\n",
       "    <tr>\n",
       "      <th>8</th>\n",
       "      <td>1.00</td>\n",
       "      <td>1362082044</td>\n",
       "      <td>5963</td>\n",
       "      <td>8</td>\n",
       "      <td>6</td>\n",
       "      <td>6</td>\n",
       "      <td>6</td>\n",
       "    </tr>\n",
       "    <tr>\n",
       "      <th>9</th>\n",
       "      <td>0.75</td>\n",
       "      <td>1362082044</td>\n",
       "      <td>5963</td>\n",
       "      <td>6</td>\n",
       "      <td>5</td>\n",
       "      <td>4</td>\n",
       "      <td>3</td>\n",
       "    </tr>\n",
       "  </tbody>\n",
       "</table>\n",
       "</div>"
      ],
      "text/plain": [
       "   p_recall   timestamp     delta  history_seen  history_correct  \\\n",
       "0      1.00  1362076081  27649635             6                4   \n",
       "1      0.50  1362076081  27649635             4                4   \n",
       "2      1.00  1362076081  27649635             5                4   \n",
       "3      0.50  1362076081  27649635             6                5   \n",
       "4      1.00  1362076081  27649635             4                4   \n",
       "5      1.00  1362076081  27649635             4                3   \n",
       "6      1.00  1362076081  27649635             4                4   \n",
       "7      1.00  1362082032    444407             3                3   \n",
       "8      1.00  1362082044      5963             8                6   \n",
       "9      0.75  1362082044      5963             6                5   \n",
       "\n",
       "   session_seen  session_correct  \n",
       "0             2                2  \n",
       "1             2                1  \n",
       "2             1                1  \n",
       "3             2                1  \n",
       "4             1                1  \n",
       "5             1                1  \n",
       "6             1                1  \n",
       "7             1                1  \n",
       "8             6                6  \n",
       "9             4                3  "
      ]
     },
     "execution_count": 10,
     "metadata": {},
     "output_type": "execute_result"
    }
   ],
   "source": [
    "# hint: df.select_dtypes() which you could select numerical data types\n",
    "pro_5_numcol = pd.DataFrame(pro_5, columns = pro_5.select_dtypes(include =['int','float']).columns)\n",
    "pro_5_numcol.head(10)"
   ]
  },
  {
   "cell_type": "markdown",
   "metadata": {},
   "source": [
    "#### 2. Draw histgrams to show the distributions of all the numerical data from the dataframe we just created."
   ]
  },
  {
   "cell_type": "code",
   "execution_count": 11,
   "metadata": {},
   "outputs": [
    {
     "data": {
      "text/plain": [
       "array([[<AxesSubplot:title={'center':'p_recall'}>,\n",
       "        <AxesSubplot:title={'center':'timestamp'}>,\n",
       "        <AxesSubplot:title={'center':'delta'}>],\n",
       "       [<AxesSubplot:title={'center':'history_seen'}>,\n",
       "        <AxesSubplot:title={'center':'history_correct'}>,\n",
       "        <AxesSubplot:title={'center':'session_seen'}>],\n",
       "       [<AxesSubplot:title={'center':'session_correct'}>, <AxesSubplot:>,\n",
       "        <AxesSubplot:>]], dtype=object)"
      ]
     },
     "execution_count": 11,
     "metadata": {},
     "output_type": "execute_result"
    },
    {
     "data": {
      "image/png": "[encoded data removed]",
      "text/plain": [
       "<Figure size 864x720 with 9 Axes>"
      ]
     },
     "metadata": {
      "needs_background": "light"
     },
     "output_type": "display_data"
    }
   ],
   "source": [
    "pro_5_numcol.hist(figsize=(12,10),alpha = 1,color = '#FFA07A',bins = 80)\n",
    "# delta,history_seen,history_correct look like extremly imbalance data,\n",
    "#1*10^6 cases with one entry data '0-1' round 1*10^6/1.3*10^6 = 0.77"
   ]
  },
  {
   "cell_type": "markdown",
   "metadata": {},
   "source": [
    "### Feature to feature relationship"
   ]
  },
  {
   "cell_type": "markdown",
   "metadata": {},
   "source": [
    "Trying to plot all the numerical features in a pairplot will take us too much time and will be hard to interpret. We can try to see if some variables are linked between each other and then explain their relation with common sense."
   ]
  },
  {
   "cell_type": "markdown",
   "metadata": {},
   "source": [
    "#### 3. Compute pairwise correlation matrix of numerical columns and draw a heatmap using seaborn plot"
   ]
  },
  {
   "cell_type": "markdown",
   "metadata": {},
   "source": [
    "hint: the heatmap may look like this\n",
    "![image.png](attachment:image.png)"
   ]
  },
  {
   "cell_type": "code",
   "execution_count": 12,
   "metadata": {},
   "outputs": [
    {
     "data": {
      "text/html": [
       "<div>\n",
       "<style scoped>\n",
       "    .dataframe tbody tr th:only-of-type {\n",
       "        vertical-align: middle;\n",
       "    }\n",
       "\n",
       "    .dataframe tbody tr th {\n",
       "        vertical-align: top;\n",
       "    }\n",
       "\n",
       "    .dataframe thead th {\n",
       "        text-align: right;\n",
       "    }\n",
       "</style>\n",
       "<table border=\"1\" class=\"dataframe\">\n",
       "  <thead>\n",
       "    <tr style=\"text-align: right;\">\n",
       "      <th></th>\n",
       "      <th>p_recall</th>\n",
       "      <th>timestamp</th>\n",
       "      <th>delta</th>\n",
       "      <th>history_seen</th>\n",
       "      <th>history_correct</th>\n",
       "      <th>session_seen</th>\n",
       "      <th>session_correct</th>\n",
       "    </tr>\n",
       "  </thead>\n",
       "  <tbody>\n",
       "    <tr>\n",
       "      <th>p_recall</th>\n",
       "      <td>1.000000</td>\n",
       "      <td>0.000311</td>\n",
       "      <td>0.029508</td>\n",
       "      <td>0.024895</td>\n",
       "      <td>0.015179</td>\n",
       "      <td>0.041875</td>\n",
       "      <td>0.307326</td>\n",
       "    </tr>\n",
       "    <tr>\n",
       "      <th>timestamp</th>\n",
       "      <td>0.000311</td>\n",
       "      <td>1.000000</td>\n",
       "      <td>0.001258</td>\n",
       "      <td>0.003677</td>\n",
       "      <td>0.001993</td>\n",
       "      <td>0.011619</td>\n",
       "      <td>0.010839</td>\n",
       "    </tr>\n",
       "    <tr>\n",
       "      <th>delta</th>\n",
       "      <td>0.029508</td>\n",
       "      <td>0.001258</td>\n",
       "      <td>1.000000</td>\n",
       "      <td>0.029574</td>\n",
       "      <td>0.029490</td>\n",
       "      <td>0.001349</td>\n",
       "      <td>0.010052</td>\n",
       "    </tr>\n",
       "    <tr>\n",
       "      <th>history_seen</th>\n",
       "      <td>0.024895</td>\n",
       "      <td>0.003677</td>\n",
       "      <td>0.029574</td>\n",
       "      <td>1.000000</td>\n",
       "      <td>0.986264</td>\n",
       "      <td>0.005670</td>\n",
       "      <td>0.002824</td>\n",
       "    </tr>\n",
       "    <tr>\n",
       "      <th>history_correct</th>\n",
       "      <td>0.015179</td>\n",
       "      <td>0.001993</td>\n",
       "      <td>0.029490</td>\n",
       "      <td>0.986264</td>\n",
       "      <td>1.000000</td>\n",
       "      <td>0.006443</td>\n",
       "      <td>0.001176</td>\n",
       "    </tr>\n",
       "    <tr>\n",
       "      <th>session_seen</th>\n",
       "      <td>0.041875</td>\n",
       "      <td>0.011619</td>\n",
       "      <td>0.001349</td>\n",
       "      <td>0.005670</td>\n",
       "      <td>0.006443</td>\n",
       "      <td>1.000000</td>\n",
       "      <td>0.951276</td>\n",
       "    </tr>\n",
       "    <tr>\n",
       "      <th>session_correct</th>\n",
       "      <td>0.307326</td>\n",
       "      <td>0.010839</td>\n",
       "      <td>0.010052</td>\n",
       "      <td>0.002824</td>\n",
       "      <td>0.001176</td>\n",
       "      <td>0.951276</td>\n",
       "      <td>1.000000</td>\n",
       "    </tr>\n",
       "  </tbody>\n",
       "</table>\n",
       "</div>"
      ],
      "text/plain": [
       "                 p_recall  timestamp     delta  history_seen  history_correct  \\\n",
       "p_recall         1.000000   0.000311  0.029508      0.024895         0.015179   \n",
       "timestamp        0.000311   1.000000  0.001258      0.003677         0.001993   \n",
       "delta            0.029508   0.001258  1.000000      0.029574         0.029490   \n",
       "history_seen     0.024895   0.003677  0.029574      1.000000         0.986264   \n",
       "history_correct  0.015179   0.001993  0.029490      0.986264         1.000000   \n",
       "session_seen     0.041875   0.011619  0.001349      0.005670         0.006443   \n",
       "session_correct  0.307326   0.010839  0.010052      0.002824         0.001176   \n",
       "\n",
       "                 session_seen  session_correct  \n",
       "p_recall             0.041875         0.307326  \n",
       "timestamp            0.011619         0.010839  \n",
       "delta                0.001349         0.010052  \n",
       "history_seen         0.005670         0.002824  \n",
       "history_correct      0.006443         0.001176  \n",
       "session_seen         1.000000         0.951276  \n",
       "session_correct      0.951276         1.000000  "
      ]
     },
     "execution_count": 12,
     "metadata": {},
     "output_type": "execute_result"
    }
   ],
   "source": [
    "# hint：corr(), sns.heatmap()\n",
    "corrmat = pro_5_numcol.corr().abs()\n",
    "corrmat"
   ]
  },
  {
   "cell_type": "code",
   "execution_count": 13,
   "metadata": {},
   "outputs": [
    {
     "data": {
      "image/png": "[encoded data removed]",
      "text/plain": [
       "<Figure size 432x288 with 2 Axes>"
      ]
     },
     "metadata": {
      "needs_background": "light"
     },
     "output_type": "display_data"
    }
   ],
   "source": [
    "sns.heatmap(corrmat, vmax=.95, square=True,annot=True, cmap=\"YlGnBu\")\n",
    "plt.show()\n",
    "#session_seen and session_correct has strong correlation\n",
    "#history_seen and history_correct has strong correlation"
   ]
  },
  {
   "cell_type": "markdown",
   "metadata": {},
   "source": [
    "### Categorical data - Countries"
   ]
  },
  {
   "cell_type": "markdown",
   "metadata": {},
   "source": [
    "#### 1. What are user interface languages? "
   ]
  },
  {
   "cell_type": "code",
   "execution_count": 14,
   "metadata": {},
   "outputs": [
    {
     "data": {
      "image/png": "[encoded data removed]",
      "text/plain": [
       "<Figure size 432x288 with 1 Axes>"
      ]
     },
     "metadata": {
      "needs_background": "light"
     },
     "output_type": "display_data"
    }
   ],
   "source": [
    "#pro_5['ui_language'].hist(alpha = 1,color = '#87CEFA',grid = True)\n",
    "#user interface language include 'en','pt','es','it', 4 types of language.\n",
    "sns.histplot(data=pro_5['ui_language'],color = 'orchid',shrink=.9)\n",
    "plt.show()"
   ]
  },
  {
   "cell_type": "markdown",
   "metadata": {},
   "source": [
    "#### 2. Do a value_counts() to see how popular each interface language is"
   ]
  },
  {
   "cell_type": "code",
   "execution_count": 15,
   "metadata": {},
   "outputs": [
    {
     "data": {
      "text/plain": [
       "en    598123\n",
       "es    298705\n",
       "pt     72876\n",
       "it     30296\n",
       "Name: ui_language, dtype: int64"
      ]
     },
     "execution_count": 15,
     "metadata": {},
     "output_type": "execute_result"
    }
   ],
   "source": [
    "pro_5['ui_language'].value_counts()"
   ]
  },
  {
   "cell_type": "markdown",
   "metadata": {},
   "source": [
    "#### 3. Draw a pie plot to visualize user interface language distribution with percentage on it"
   ]
  },
  {
   "cell_type": "code",
   "execution_count": 16,
   "metadata": {
    "scrolled": true
   },
   "outputs": [
    {
     "data": {
      "image/png": "[encoded data removed]",
      "text/plain": [
       "<Figure size 432x288 with 1 Axes>"
      ]
     },
     "metadata": {},
     "output_type": "display_data"
    }
   ],
   "source": [
    "# hint: showing percentage, add autopct parameter\n",
    "# Type you answer below \n",
    "#create pie chart\n",
    "colors = ['#CD8C95','#FFA07A','#D3D3D3','#8DB6CD']\n",
    "labels= pro_5['ui_language'].value_counts().index\n",
    "plt.pie(pro_5['ui_language'].value_counts(), labels = labels, colors=colors, autopct='%1.1f%%')\n",
    "plt.title(\"Proportions of user interface language\")\n",
    "#draw circle\n",
    "#centre_circle = plt.Circle((0,0),0.70,fc='white')\n",
    "#fig = plt.gcf()\n",
    "#fig.gca().add_artist(centre_circle)\n",
    "plt.show()"
   ]
  },
  {
   "cell_type": "markdown",
   "metadata": {},
   "source": [
    "#### 4. Draw a pie plot of languages that individuals are learnging"
   ]
  },
  {
   "cell_type": "code",
   "execution_count": 17,
   "metadata": {},
   "outputs": [
    {
     "data": {
      "image/png": "[encoded data removed]",
      "text/plain": [
       "<Figure size 432x288 with 1 Axes>"
      ]
     },
     "metadata": {},
     "output_type": "display_data"
    }
   ],
   "source": [
    "# Type you answer below \n",
    "colors = ['#E3CF57','#F5F5DC','#FFE4C4','#EED5B7','#CCB79E','#8B7D6B']\n",
    "labels= pro_5['learning_language'].value_counts().index\n",
    "plt.pie(pro_5['learning_language'].value_counts(), labels = labels, colors=colors, autopct='%1.1f%%')\n",
    "plt.title(\"Proportions of individual learning language\")\n",
    "#draw circle\n",
    "#centre_circle = plt.Circle((0,0),0.70,fc='white')\n",
    "#fig = plt.gcf()\n",
    "#fig.gca().add_artist(centre_circle)\n",
    "plt.show()"
   ]
  },
  {
   "cell_type": "markdown",
   "metadata": {},
   "source": [
    "#### 5. Pie plot to visualize what languages being learned by people whose interface language is English"
   ]
  },
  {
   "cell_type": "code",
   "execution_count": 18,
   "metadata": {},
   "outputs": [
    {
     "data": {
      "text/plain": [
       "Text(0.5, 1.0, 'Proportions of individual learning language by people using english as interface language')"
      ]
     },
     "execution_count": 18,
     "metadata": {},
     "output_type": "execute_result"
    },
    {
     "data": {
      "image/png": "[encoded data removed]",
      "text/plain": [
       "<Figure size 432x288 with 1 Axes>"
      ]
     },
     "metadata": {},
     "output_type": "display_data"
    }
   ],
   "source": [
    "# you want to show the learning language based on people whose interface language is English\n",
    "# firstly create subdataframe interface language is english\n",
    "ui_language_en = pro_5[pro_5.ui_language == 'en']\n",
    "ui_language_en.shape\n",
    "#pie plot using new dataframe\n",
    "colors = ['#E3CF57','#F5F5DC','#FFE4C4','#EED5B7','#CCB79E','#8B7D6B']\n",
    "labels = ui_language_en['learning_language'].value_counts().index\n",
    "plt.pie(ui_language_en['learning_language'].value_counts(),labels = labels, colors=colors, autopct='%1.1f%%')\n",
    "plt.title(\"Proportions of individual learning language by people using english as interface language\")"
   ]
  },
  {
   "cell_type": "markdown",
   "metadata": {},
   "source": [
    "#### 6. Let's see what languages being learned by people whose interface languages are English, Spanish, Italian, and Potuguese by subplot four pie plots"
   ]
  },
  {
   "cell_type": "code",
   "execution_count": 19,
   "metadata": {},
   "outputs": [
    {
     "data": {
      "text/plain": [
       "Text(0.5, 1.0, 'en')"
      ]
     },
     "execution_count": 19,
     "metadata": {},
     "output_type": "execute_result"
    },
    {
     "data": {
      "image/png": "[encoded data removed]",
      "text/plain": [
       "<Figure size 432x288 with 4 Axes>"
      ]
     },
     "metadata": {},
     "output_type": "display_data"
    }
   ],
   "source": [
    "# Type you answer below \n",
    "# 应该有循环的code解决这个问题\n",
    "colors = ['#E3CF57','#F5F5DC','#FFE4C4','#EED5B7','#CCB79E','#8B7D6B']\n",
    "fig = plt.figure()\n",
    "ax1 = plt.subplot2grid((2,2),(0,0))\n",
    "ui_language_es = pro_5[pro_5.ui_language == 'es']\n",
    "labels = ui_language_es['learning_language'].value_counts().index\n",
    "plt.pie(ui_language_es['learning_language'].value_counts(),labels = labels, colors=colors, autopct='%1.1f%%')\n",
    "plt.title('es')\n",
    "ax1 = plt.subplot2grid((2,2), (0, 1))\n",
    "ui_language_pt = pro_5[pro_5.ui_language == 'pt']\n",
    "labels = ui_language_pt['learning_language'].value_counts().index\n",
    "plt.pie(ui_language_pt['learning_language'].value_counts(),labels = labels, colors=colors, autopct='%1.1f%%')\n",
    "plt.title('pt')\n",
    "ax1 = plt.subplot2grid((2,2), (1, 0))\n",
    "ui_language_it = pro_5[pro_5.ui_language == 'it']\n",
    "labels = ui_language_it['learning_language'].value_counts().index\n",
    "plt.pie(ui_language_it['learning_language'].value_counts(),labels = labels, colors=colors, autopct='%1.1f%%')\n",
    "plt.title('it')\n",
    "ax1 = plt.subplot2grid((2,2), (1, 1))\n",
    "ui_language_en = pro_5[pro_5.ui_language == 'en']\n",
    "labels = ui_language_en['learning_language'].value_counts().index\n",
    "plt.pie(ui_language_en['learning_language'].value_counts(),labels = labels, colors=colors, autopct='%1.1f%%')\n",
    "plt.title('en')"
   ]
  },
  {
   "cell_type": "code",
   "execution_count": 20,
   "metadata": {},
   "outputs": [
    {
     "ename": "ValueError",
     "evalue": "'label' must be of length 'x'",
     "output_type": "error",
     "traceback": [
      "\u001b[0;31m---------------------------------------------------------------------------\u001b[0m",
      "\u001b[0;31mValueError\u001b[0m                                Traceback (most recent call last)",
      "Input \u001b[0;32mIn [20]\u001b[0m, in \u001b[0;36m<cell line: 4>\u001b[0;34m()\u001b[0m\n\u001b[1;32m      2\u001b[0m labels \u001b[38;5;241m=\u001b[39m pro_5[\u001b[38;5;124m'\u001b[39m\u001b[38;5;124mui_language\u001b[39m\u001b[38;5;124m'\u001b[39m]\u001b[38;5;241m.\u001b[39mvalue_counts()\u001b[38;5;241m.\u001b[39mindex\n\u001b[1;32m      3\u001b[0m fig, axs \u001b[38;5;241m=\u001b[39m plt\u001b[38;5;241m.\u001b[39msubplots(\u001b[38;5;241m1\u001b[39m,\u001b[38;5;241m4\u001b[39m)\n\u001b[0;32m----> 4\u001b[0m \u001b[43maxs\u001b[49m\u001b[43m[\u001b[49m\u001b[38;5;241;43m0\u001b[39;49m\u001b[43m]\u001b[49m\u001b[38;5;241;43m.\u001b[39;49m\u001b[43mpie\u001b[49m\u001b[43m(\u001b[49m\u001b[43mpro_5\u001b[49m\u001b[43m[\u001b[49m\u001b[43mpro_5\u001b[49m\u001b[38;5;241;43m.\u001b[39;49m\u001b[43mui_language\u001b[49m\u001b[43m \u001b[49m\u001b[38;5;241;43m==\u001b[39;49m\u001b[43m \u001b[49m\u001b[38;5;124;43m'\u001b[39;49m\u001b[38;5;124;43men\u001b[39;49m\u001b[38;5;124;43m'\u001b[39;49m\u001b[43m]\u001b[49m\u001b[38;5;241;43m.\u001b[39;49m\u001b[43mgroupby\u001b[49m\u001b[43m(\u001b[49m\u001b[43m[\u001b[49m\u001b[38;5;124;43m\"\u001b[39;49m\u001b[38;5;124;43mlearning_language\u001b[39;49m\u001b[38;5;124;43m\"\u001b[39;49m\u001b[43m]\u001b[49m\u001b[43m)\u001b[49m\u001b[38;5;241;43m.\u001b[39;49m\u001b[43msize\u001b[49m\u001b[43m(\u001b[49m\u001b[43m)\u001b[49m\u001b[43m,\u001b[49m\u001b[43m \u001b[49m\u001b[43mlabels\u001b[49m\u001b[38;5;241;43m=\u001b[39;49m\u001b[43mlabels\u001b[49m\u001b[43m,\u001b[49m\u001b[43m \u001b[49m\u001b[43mautopct\u001b[49m\u001b[38;5;241;43m=\u001b[39;49m\u001b[38;5;124;43m'\u001b[39;49m\u001b[38;5;132;43;01m%1.1f\u001b[39;49;00m\u001b[38;5;132;43;01m%%\u001b[39;49;00m\u001b[38;5;124;43m'\u001b[39;49m\u001b[43m)\u001b[49m\n\u001b[1;32m      5\u001b[0m axs[\u001b[38;5;241m1\u001b[39m]\u001b[38;5;241m.\u001b[39mpie(pro_5[pro_5\u001b[38;5;241m.\u001b[39mui_language \u001b[38;5;241m==\u001b[39m \u001b[38;5;124m'\u001b[39m\u001b[38;5;124mes\u001b[39m\u001b[38;5;124m'\u001b[39m]\u001b[38;5;241m.\u001b[39mgroupby([\u001b[38;5;124m\"\u001b[39m\u001b[38;5;124mlearning_language\u001b[39m\u001b[38;5;124m\"\u001b[39m])\u001b[38;5;241m.\u001b[39msize(), labels\u001b[38;5;241m=\u001b[39mlabels, autopct\u001b[38;5;241m=\u001b[39m\u001b[38;5;124m'\u001b[39m\u001b[38;5;132;01m%1.1f\u001b[39;00m\u001b[38;5;132;01m%%\u001b[39;00m\u001b[38;5;124m'\u001b[39m)\n\u001b[1;32m      6\u001b[0m axs[\u001b[38;5;241m2\u001b[39m]\u001b[38;5;241m.\u001b[39mpie(pro_5[pro_5\u001b[38;5;241m.\u001b[39mui_language \u001b[38;5;241m==\u001b[39m \u001b[38;5;124m'\u001b[39m\u001b[38;5;124mpt\u001b[39m\u001b[38;5;124m'\u001b[39m]\u001b[38;5;241m.\u001b[39mgroupby([\u001b[38;5;124m\"\u001b[39m\u001b[38;5;124mlearning_language\u001b[39m\u001b[38;5;124m\"\u001b[39m])\u001b[38;5;241m.\u001b[39msize(), labels\u001b[38;5;241m=\u001b[39mlabels, autopct\u001b[38;5;241m=\u001b[39m\u001b[38;5;124m'\u001b[39m\u001b[38;5;132;01m%1.1f\u001b[39;00m\u001b[38;5;132;01m%%\u001b[39;00m\u001b[38;5;124m'\u001b[39m)\n",
      "File \u001b[0;32m~/opt/anaconda3/lib/python3.9/site-packages/matplotlib/__init__.py:1412\u001b[0m, in \u001b[0;36m_preprocess_data.<locals>.inner\u001b[0;34m(ax, data, *args, **kwargs)\u001b[0m\n\u001b[1;32m   1409\u001b[0m \u001b[38;5;129m@functools\u001b[39m\u001b[38;5;241m.\u001b[39mwraps(func)\n\u001b[1;32m   1410\u001b[0m \u001b[38;5;28;01mdef\u001b[39;00m \u001b[38;5;21minner\u001b[39m(ax, \u001b[38;5;241m*\u001b[39margs, data\u001b[38;5;241m=\u001b[39m\u001b[38;5;28;01mNone\u001b[39;00m, \u001b[38;5;241m*\u001b[39m\u001b[38;5;241m*\u001b[39mkwargs):\n\u001b[1;32m   1411\u001b[0m     \u001b[38;5;28;01mif\u001b[39;00m data \u001b[38;5;129;01mis\u001b[39;00m \u001b[38;5;28;01mNone\u001b[39;00m:\n\u001b[0;32m-> 1412\u001b[0m         \u001b[38;5;28;01mreturn\u001b[39;00m \u001b[43mfunc\u001b[49m\u001b[43m(\u001b[49m\u001b[43max\u001b[49m\u001b[43m,\u001b[49m\u001b[43m \u001b[49m\u001b[38;5;241;43m*\u001b[39;49m\u001b[38;5;28;43mmap\u001b[39;49m\u001b[43m(\u001b[49m\u001b[43msanitize_sequence\u001b[49m\u001b[43m,\u001b[49m\u001b[43m \u001b[49m\u001b[43margs\u001b[49m\u001b[43m)\u001b[49m\u001b[43m,\u001b[49m\u001b[43m \u001b[49m\u001b[38;5;241;43m*\u001b[39;49m\u001b[38;5;241;43m*\u001b[39;49m\u001b[43mkwargs\u001b[49m\u001b[43m)\u001b[49m\n\u001b[1;32m   1414\u001b[0m     bound \u001b[38;5;241m=\u001b[39m new_sig\u001b[38;5;241m.\u001b[39mbind(ax, \u001b[38;5;241m*\u001b[39margs, \u001b[38;5;241m*\u001b[39m\u001b[38;5;241m*\u001b[39mkwargs)\n\u001b[1;32m   1415\u001b[0m     auto_label \u001b[38;5;241m=\u001b[39m (bound\u001b[38;5;241m.\u001b[39marguments\u001b[38;5;241m.\u001b[39mget(label_namer)\n\u001b[1;32m   1416\u001b[0m                   \u001b[38;5;129;01mor\u001b[39;00m bound\u001b[38;5;241m.\u001b[39mkwargs\u001b[38;5;241m.\u001b[39mget(label_namer))\n",
      "File \u001b[0;32m~/opt/anaconda3/lib/python3.9/site-packages/matplotlib/axes/_axes.py:3060\u001b[0m, in \u001b[0;36mAxes.pie\u001b[0;34m(self, x, explode, labels, colors, autopct, pctdistance, shadow, labeldistance, startangle, radius, counterclock, wedgeprops, textprops, center, frame, rotatelabels, normalize)\u001b[0m\n\u001b[1;32m   3058\u001b[0m     explode \u001b[38;5;241m=\u001b[39m [\u001b[38;5;241m0\u001b[39m] \u001b[38;5;241m*\u001b[39m \u001b[38;5;28mlen\u001b[39m(x)\n\u001b[1;32m   3059\u001b[0m \u001b[38;5;28;01mif\u001b[39;00m \u001b[38;5;28mlen\u001b[39m(x) \u001b[38;5;241m!=\u001b[39m \u001b[38;5;28mlen\u001b[39m(labels):\n\u001b[0;32m-> 3060\u001b[0m     \u001b[38;5;28;01mraise\u001b[39;00m \u001b[38;5;167;01mValueError\u001b[39;00m(\u001b[38;5;124m\"\u001b[39m\u001b[38;5;124m'\u001b[39m\u001b[38;5;124mlabel\u001b[39m\u001b[38;5;124m'\u001b[39m\u001b[38;5;124m must be of length \u001b[39m\u001b[38;5;124m'\u001b[39m\u001b[38;5;124mx\u001b[39m\u001b[38;5;124m'\u001b[39m\u001b[38;5;124m\"\u001b[39m)\n\u001b[1;32m   3061\u001b[0m \u001b[38;5;28;01mif\u001b[39;00m \u001b[38;5;28mlen\u001b[39m(x) \u001b[38;5;241m!=\u001b[39m \u001b[38;5;28mlen\u001b[39m(explode):\n\u001b[1;32m   3062\u001b[0m     \u001b[38;5;28;01mraise\u001b[39;00m \u001b[38;5;167;01mValueError\u001b[39;00m(\u001b[38;5;124m\"\u001b[39m\u001b[38;5;124m'\u001b[39m\u001b[38;5;124mexplode\u001b[39m\u001b[38;5;124m'\u001b[39m\u001b[38;5;124m must be of length \u001b[39m\u001b[38;5;124m'\u001b[39m\u001b[38;5;124mx\u001b[39m\u001b[38;5;124m'\u001b[39m\u001b[38;5;124m\"\u001b[39m)\n",
      "\u001b[0;31mValueError\u001b[0m: 'label' must be of length 'x'"
     ]
    },
    {
     "data": {
      "image/png": "[encoded data removed]",
      "text/plain": [
       "<Figure size 432x288 with 4 Axes>"
      ]
     },
     "metadata": {
      "needs_background": "light"
     },
     "output_type": "display_data"
    }
   ],
   "source": [
    "#为什么这种方法不可以？\n",
    "# labels = pro_5['ui_language'].value_counts().index\n",
    "# fig, axs = plt.subplots(1,4)\n",
    "# axs[0].pie(pro_5[pro_5.ui_language == 'en'].groupby([\"learning_language\"]).size(), labels=labels, autopct='%1.1f%%')\n",
    "# axs[1].pie(pro_5[pro_5.ui_language == 'es'].groupby([\"learning_language\"]).size(), labels=labels, autopct='%1.1f%%')\n",
    "# axs[2].pie(pro_5[pro_5.ui_language == 'pt'].groupby([\"learning_language\"]).size(), labels=labels, autopct='%1.1f%%')\n",
    "# axs[3].pie(pro_5[pro_5.ui_language == 'it'].groupby([\"learning_language\"]).size(), labels=labels, autopct='%1.1f%%')\n",
    "# plt.show()"
   ]
  },
  {
   "cell_type": "markdown",
   "metadata": {},
   "source": [
    "#### hint: result plot would look like this\n",
    "![image.png](attachment:image.png)"
   ]
  },
  {
   "cell_type": "markdown",
   "metadata": {},
   "source": [
    "## Users Activity patterns"
   ]
  },
  {
   "cell_type": "markdown",
   "metadata": {},
   "source": [
    "#### 1. Let's see users activity in session by doing a value counts and do a summary statistics"
   ]
  },
  {
   "cell_type": "code",
   "execution_count": 21,
   "metadata": {},
   "outputs": [
    {
     "data": {
      "text/html": [
       "<div>\n",
       "<style scoped>\n",
       "    .dataframe tbody tr th:only-of-type {\n",
       "        vertical-align: middle;\n",
       "    }\n",
       "\n",
       "    .dataframe tbody tr th {\n",
       "        vertical-align: top;\n",
       "    }\n",
       "\n",
       "    .dataframe thead th {\n",
       "        text-align: right;\n",
       "    }\n",
       "</style>\n",
       "<table border=\"1\" class=\"dataframe\">\n",
       "  <thead>\n",
       "    <tr style=\"text-align: right;\">\n",
       "      <th></th>\n",
       "      <th>p_recall</th>\n",
       "      <th>timestamp</th>\n",
       "      <th>delta</th>\n",
       "      <th>history_seen</th>\n",
       "      <th>history_correct</th>\n",
       "      <th>session_seen</th>\n",
       "      <th>session_correct</th>\n",
       "    </tr>\n",
       "  </thead>\n",
       "  <tbody>\n",
       "    <tr>\n",
       "      <th>count</th>\n",
       "      <td>1000000.000000</td>\n",
       "      <td>1.000000e+06</td>\n",
       "      <td>1.000000e+06</td>\n",
       "      <td>1000000.000000</td>\n",
       "      <td>1000000.000000</td>\n",
       "      <td>1000000.000000</td>\n",
       "      <td>1000000.000000</td>\n",
       "    </tr>\n",
       "    <tr>\n",
       "      <th>mean</th>\n",
       "      <td>0.894955</td>\n",
       "      <td>1.362118e+09</td>\n",
       "      <td>6.145372e+05</td>\n",
       "      <td>21.659757</td>\n",
       "      <td>19.105828</td>\n",
       "      <td>1.788163</td>\n",
       "      <td>1.615618</td>\n",
       "    </tr>\n",
       "    <tr>\n",
       "      <th>std</th>\n",
       "      <td>0.273827</td>\n",
       "      <td>2.511090e+04</td>\n",
       "      <td>1.997129e+06</td>\n",
       "      <td>120.081596</td>\n",
       "      <td>103.611832</td>\n",
       "      <td>1.333740</td>\n",
       "      <td>1.294637</td>\n",
       "    </tr>\n",
       "    <tr>\n",
       "      <th>min</th>\n",
       "      <td>0.000000</td>\n",
       "      <td>1.362076e+09</td>\n",
       "      <td>1.000000e+00</td>\n",
       "      <td>1.000000</td>\n",
       "      <td>1.000000</td>\n",
       "      <td>1.000000</td>\n",
       "      <td>0.000000</td>\n",
       "    </tr>\n",
       "    <tr>\n",
       "      <th>25%</th>\n",
       "      <td>1.000000</td>\n",
       "      <td>1.362095e+09</td>\n",
       "      <td>5.040000e+02</td>\n",
       "      <td>3.000000</td>\n",
       "      <td>3.000000</td>\n",
       "      <td>1.000000</td>\n",
       "      <td>1.000000</td>\n",
       "    </tr>\n",
       "    <tr>\n",
       "      <th>50%</th>\n",
       "      <td>1.000000</td>\n",
       "      <td>1.362110e+09</td>\n",
       "      <td>7.157600e+04</td>\n",
       "      <td>7.000000</td>\n",
       "      <td>6.000000</td>\n",
       "      <td>1.000000</td>\n",
       "      <td>1.000000</td>\n",
       "    </tr>\n",
       "    <tr>\n",
       "      <th>75%</th>\n",
       "      <td>1.000000</td>\n",
       "      <td>1.362143e+09</td>\n",
       "      <td>3.431455e+05</td>\n",
       "      <td>15.000000</td>\n",
       "      <td>14.000000</td>\n",
       "      <td>2.000000</td>\n",
       "      <td>2.000000</td>\n",
       "    </tr>\n",
       "    <tr>\n",
       "      <th>max</th>\n",
       "      <td>1.000000</td>\n",
       "      <td>1.362161e+09</td>\n",
       "      <td>3.877671e+07</td>\n",
       "      <td>13348.000000</td>\n",
       "      <td>12728.000000</td>\n",
       "      <td>20.000000</td>\n",
       "      <td>20.000000</td>\n",
       "    </tr>\n",
       "  </tbody>\n",
       "</table>\n",
       "</div>"
      ],
      "text/plain": [
       "             p_recall     timestamp         delta    history_seen  \\\n",
       "count  1000000.000000  1.000000e+06  1.000000e+06  1000000.000000   \n",
       "mean         0.894955  1.362118e+09  6.145372e+05       21.659757   \n",
       "std          0.273827  2.511090e+04  1.997129e+06      120.081596   \n",
       "min          0.000000  1.362076e+09  1.000000e+00        1.000000   \n",
       "25%          1.000000  1.362095e+09  5.040000e+02        3.000000   \n",
       "50%          1.000000  1.362110e+09  7.157600e+04        7.000000   \n",
       "75%          1.000000  1.362143e+09  3.431455e+05       15.000000   \n",
       "max          1.000000  1.362161e+09  3.877671e+07    13348.000000   \n",
       "\n",
       "       history_correct    session_seen  session_correct  \n",
       "count   1000000.000000  1000000.000000   1000000.000000  \n",
       "mean         19.105828        1.788163         1.615618  \n",
       "std         103.611832        1.333740         1.294637  \n",
       "min           1.000000        1.000000         0.000000  \n",
       "25%           3.000000        1.000000         1.000000  \n",
       "50%           6.000000        1.000000         1.000000  \n",
       "75%          14.000000        2.000000         2.000000  \n",
       "max       12728.000000       20.000000        20.000000  "
      ]
     },
     "execution_count": 21,
     "metadata": {},
     "output_type": "execute_result"
    }
   ],
   "source": [
    "# hint: summary statistics use describe() function \n",
    "# Type you answer below\n",
    "pro_5_numcol.describe()"
   ]
  },
  {
   "cell_type": "code",
   "execution_count": 22,
   "metadata": {},
   "outputs": [
    {
     "data": {
      "text/plain": [
       "1     596858\n",
       "2     208146\n",
       "3     101697\n",
       "4      48155\n",
       "5      23301\n",
       "6      10581\n",
       "7       4763\n",
       "8       2410\n",
       "9       1443\n",
       "10       989\n",
       "11       487\n",
       "12       296\n",
       "13       238\n",
       "16       224\n",
       "14       204\n",
       "15       135\n",
       "19        25\n",
       "17        20\n",
       "18        15\n",
       "20        13\n",
       "Name: session_seen, dtype: int64"
      ]
     },
     "execution_count": 22,
     "metadata": {},
     "output_type": "execute_result"
    }
   ],
   "source": [
    "pro_5_numcol['session_seen'].value_counts()"
   ]
  },
  {
   "cell_type": "code",
   "execution_count": 23,
   "metadata": {},
   "outputs": [
    {
     "data": {
      "text/plain": [
       "1     562484\n",
       "2     195265\n",
       "3      92502\n",
       "0      72176\n",
       "4      41912\n",
       "5      18765\n",
       "6       8236\n",
       "7       3657\n",
       "8       1891\n",
       "9       1178\n",
       "10       654\n",
       "11       415\n",
       "12       291\n",
       "13       207\n",
       "14       141\n",
       "15        99\n",
       "16        76\n",
       "17        19\n",
       "19        16\n",
       "18        15\n",
       "20         1\n",
       "Name: session_correct, dtype: int64"
      ]
     },
     "execution_count": 23,
     "metadata": {},
     "output_type": "execute_result"
    }
   ],
   "source": [
    "pro_5_numcol['session_correct'].value_counts()"
   ]
  },
  {
   "cell_type": "code",
   "execution_count": 24,
   "metadata": {},
   "outputs": [
    {
     "data": {
      "text/plain": [
       "u:ia1J    2041\n",
       "u:bcH_    1531\n",
       "u:eMgB    1233\n",
       "u:wpZ     1230\n",
       "u:gp3v    1037\n",
       "          ... \n",
       "u:c179       1\n",
       "u:hDND       1\n",
       "u:hSOs       1\n",
       "u:iaOD       1\n",
       "u:cKww       1\n",
       "Name: user_id, Length: 20204, dtype: int64"
      ]
     },
     "execution_count": 24,
     "metadata": {},
     "output_type": "execute_result"
    }
   ],
   "source": [
    "pro_5['user_id'].value_counts()"
   ]
  },
  {
   "cell_type": "markdown",
   "metadata": {},
   "source": [
    "#### 2. Compute the duration of dataset"
   ]
  },
  {
   "cell_type": "code",
   "execution_count": 51,
   "metadata": {},
   "outputs": [
    {
     "data": {
      "text/plain": [
       "23.500555555555554"
      ]
     },
     "execution_count": 51,
     "metadata": {},
     "output_type": "execute_result"
    }
   ],
   "source": [
    "# hint: maximum timestamp minus minimum timestamp\n",
    "# Type you answer below \n",
    "duration = (pro_5_numcol['timestamp'].max()-pro_5_numcol['timestamp'].min())/3600.00\n",
    "duration"
   ]
  },
  {
   "cell_type": "markdown",
   "metadata": {},
   "source": [
    "## Boxplots"
   ]
  },
  {
   "cell_type": "markdown",
   "metadata": {},
   "source": [
    "#### 3. Compare activity levels for people with different 4 user interface languages by drawing boxplots"
   ]
  },
  {
   "cell_type": "code",
   "execution_count": 52,
   "metadata": {},
   "outputs": [
    {
     "data": {
      "text/plain": [
       "{'whiskers': [<matplotlib.lines.Line2D at 0x7f9bbd669d60>,\n",
       "  <matplotlib.lines.Line2D at 0x7f9bbd6696d0>,\n",
       "  <matplotlib.lines.Line2D at 0x7f9bbff0e7f0>,\n",
       "  <matplotlib.lines.Line2D at 0x7f9bbff0eac0>,\n",
       "  <matplotlib.lines.Line2D at 0x7f9bbd69ebe0>,\n",
       "  <matplotlib.lines.Line2D at 0x7f9bbd69eeb0>,\n",
       "  <matplotlib.lines.Line2D at 0x7f9bbd6ae700>,\n",
       "  <matplotlib.lines.Line2D at 0x7f9bbd6572e0>],\n",
       " 'caps': [<matplotlib.lines.Line2D at 0x7f9bbd6699d0>,\n",
       "  <matplotlib.lines.Line2D at 0x7f9bbd669310>,\n",
       "  <matplotlib.lines.Line2D at 0x7f9bbff0ed90>,\n",
       "  <matplotlib.lines.Line2D at 0x7f9bbd69e0a0>,\n",
       "  <matplotlib.lines.Line2D at 0x7f9bbd6aeb80>,\n",
       "  <matplotlib.lines.Line2D at 0x7f9bbd6aee50>,\n",
       "  <matplotlib.lines.Line2D at 0x7f9bbd6575b0>,\n",
       "  <matplotlib.lines.Line2D at 0x7f9bbd657880>],\n",
       " 'boxes': [<matplotlib.lines.Line2D at 0x7f9bbd669a90>,\n",
       "  <matplotlib.lines.Line2D at 0x7f9bbff0e520>,\n",
       "  <matplotlib.lines.Line2D at 0x7f9bbd69e910>,\n",
       "  <matplotlib.lines.Line2D at 0x7f9bbd6ae400>],\n",
       " 'medians': [<matplotlib.lines.Line2D at 0x7f9bbd6778b0>,\n",
       "  <matplotlib.lines.Line2D at 0x7f9bbd69e370>,\n",
       "  <matplotlib.lines.Line2D at 0x7f9bbd6ae7f0>,\n",
       "  <matplotlib.lines.Line2D at 0x7f9bbd657b50>],\n",
       " 'fliers': [<matplotlib.lines.Line2D at 0x7f9bbff0e250>,\n",
       "  <matplotlib.lines.Line2D at 0x7f9bbd69e640>,\n",
       "  <matplotlib.lines.Line2D at 0x7f9bbd6ae130>,\n",
       "  <matplotlib.lines.Line2D at 0x7f9bbd657e20>],\n",
       " 'means': []}"
      ]
     },
     "execution_count": 52,
     "metadata": {},
     "output_type": "execute_result"
    },
    {
     "data": {
      "image/png": "[encoded data removed]",
      "text/plain": [
       "<Figure size 432x288 with 1 Axes>"
      ]
     },
     "metadata": {
      "needs_background": "light"
     },
     "output_type": "display_data"
    }
   ],
   "source": [
    "# hint: df[df.ui_language == 'en']['user_id'].value_counts()/duration\n",
    "# Type you answer below \n",
    "en = pro_5[pro_5.ui_language == 'en']['user_id'].value_counts()/duration\n",
    "es = pro_5[pro_5.ui_language == 'es']['user_id'].value_counts()/duration\n",
    "pt = pro_5[pro_5.ui_language == 'pt']['user_id'].value_counts()/duration\n",
    "it = pro_5[pro_5.ui_language == 'it']['user_id'].value_counts()/duration\n",
    "plt.boxplot([en,es,pt,it],labels =['en','es','pt','it'])"
   ]
  },
  {
   "cell_type": "markdown",
   "metadata": {},
   "source": [
    "#### 4. Do the same thing but setting ylim to 0-10, which plot would be seen more clearly"
   ]
  },
  {
   "cell_type": "code",
   "execution_count": 68,
   "metadata": {},
   "outputs": [
    {
     "data": {
      "text/plain": [
       "(0.0, 10.0)"
      ]
     },
     "execution_count": 68,
     "metadata": {},
     "output_type": "execute_result"
    },
    {
     "data": {
      "image/png": "[encoded data removed]",
      "text/plain": [
       "<Figure size 432x288 with 1 Axes>"
      ]
     },
     "metadata": {
      "needs_background": "light"
     },
     "output_type": "display_data"
    }
   ],
   "source": [
    "# Type you answer below \n",
    "plt.boxplot([en,es,pt,it],labels =['en','es','pt','it'])\n",
    "plt.ylim(0,10)"
   ]
  },
  {
   "cell_type": "markdown",
   "metadata": {},
   "source": [
    "####  5. Another way to zoom in instead of setting ylim is to take a log scale on the boxplot"
   ]
  },
  {
   "cell_type": "code",
   "execution_count": 54,
   "metadata": {},
   "outputs": [
    {
     "data": {
      "image/png": "[encoded data removed]",
      "text/plain": [
       "<Figure size 432x288 with 1 Axes>"
      ]
     },
     "metadata": {
      "needs_background": "light"
     },
     "output_type": "display_data"
    }
   ],
   "source": [
    "# hint: log scale on y\n",
    "# Type you answer below \n",
    "plt.boxplot([en,es,pt,it],labels =['en','es','pt','it'])\n",
    "plt.yscale('log')"
   ]
  },
  {
   "cell_type": "markdown",
   "metadata": {},
   "source": [
    "## Regression and predictive tasks"
   ]
  },
  {
   "cell_type": "code",
   "execution_count": 33,
   "metadata": {},
   "outputs": [
    {
     "data": {
      "text/html": [
       "<div>\n",
       "<style scoped>\n",
       "    .dataframe tbody tr th:only-of-type {\n",
       "        vertical-align: middle;\n",
       "    }\n",
       "\n",
       "    .dataframe tbody tr th {\n",
       "        vertical-align: top;\n",
       "    }\n",
       "\n",
       "    .dataframe thead th {\n",
       "        text-align: right;\n",
       "    }\n",
       "</style>\n",
       "<table border=\"1\" class=\"dataframe\">\n",
       "  <thead>\n",
       "    <tr style=\"text-align: right;\">\n",
       "      <th></th>\n",
       "      <th>p_recall</th>\n",
       "      <th>timestamp</th>\n",
       "      <th>delta</th>\n",
       "      <th>user_id</th>\n",
       "      <th>learning_language</th>\n",
       "      <th>ui_language</th>\n",
       "      <th>lexeme_id</th>\n",
       "      <th>lexeme_string</th>\n",
       "      <th>history_seen</th>\n",
       "      <th>history_correct</th>\n",
       "      <th>session_seen</th>\n",
       "      <th>session_correct</th>\n",
       "    </tr>\n",
       "  </thead>\n",
       "  <tbody>\n",
       "    <tr>\n",
       "      <th>0</th>\n",
       "      <td>1.0</td>\n",
       "      <td>1362076081</td>\n",
       "      <td>27649635</td>\n",
       "      <td>u:FO</td>\n",
       "      <td>de</td>\n",
       "      <td>en</td>\n",
       "      <td>76390c1350a8dac31186187e2fe1e178</td>\n",
       "      <td>lernt/lernen&lt;vblex&gt;&lt;pri&gt;&lt;p3&gt;&lt;sg&gt;</td>\n",
       "      <td>6</td>\n",
       "      <td>4</td>\n",
       "      <td>2</td>\n",
       "      <td>2</td>\n",
       "    </tr>\n",
       "    <tr>\n",
       "      <th>1</th>\n",
       "      <td>0.5</td>\n",
       "      <td>1362076081</td>\n",
       "      <td>27649635</td>\n",
       "      <td>u:FO</td>\n",
       "      <td>de</td>\n",
       "      <td>en</td>\n",
       "      <td>7dfd7086f3671685e2cf1c1da72796d7</td>\n",
       "      <td>die/die&lt;det&gt;&lt;def&gt;&lt;f&gt;&lt;sg&gt;&lt;nom&gt;</td>\n",
       "      <td>4</td>\n",
       "      <td>4</td>\n",
       "      <td>2</td>\n",
       "      <td>1</td>\n",
       "    </tr>\n",
       "    <tr>\n",
       "      <th>2</th>\n",
       "      <td>1.0</td>\n",
       "      <td>1362076081</td>\n",
       "      <td>27649635</td>\n",
       "      <td>u:FO</td>\n",
       "      <td>de</td>\n",
       "      <td>en</td>\n",
       "      <td>35a54c25a2cda8127343f6a82e6f6b7d</td>\n",
       "      <td>mann/mann&lt;n&gt;&lt;m&gt;&lt;sg&gt;&lt;nom&gt;</td>\n",
       "      <td>5</td>\n",
       "      <td>4</td>\n",
       "      <td>1</td>\n",
       "      <td>1</td>\n",
       "    </tr>\n",
       "    <tr>\n",
       "      <th>3</th>\n",
       "      <td>0.5</td>\n",
       "      <td>1362076081</td>\n",
       "      <td>27649635</td>\n",
       "      <td>u:FO</td>\n",
       "      <td>de</td>\n",
       "      <td>en</td>\n",
       "      <td>0cf63ffe3dda158bc3dbd55682b355ae</td>\n",
       "      <td>frau/frau&lt;n&gt;&lt;f&gt;&lt;sg&gt;&lt;nom&gt;</td>\n",
       "      <td>6</td>\n",
       "      <td>5</td>\n",
       "      <td>2</td>\n",
       "      <td>1</td>\n",
       "    </tr>\n",
       "    <tr>\n",
       "      <th>4</th>\n",
       "      <td>1.0</td>\n",
       "      <td>1362076081</td>\n",
       "      <td>27649635</td>\n",
       "      <td>u:FO</td>\n",
       "      <td>de</td>\n",
       "      <td>en</td>\n",
       "      <td>84920990d78044db53c1b012f5bf9ab5</td>\n",
       "      <td>das/das&lt;det&gt;&lt;def&gt;&lt;nt&gt;&lt;sg&gt;&lt;nom&gt;</td>\n",
       "      <td>4</td>\n",
       "      <td>4</td>\n",
       "      <td>1</td>\n",
       "      <td>1</td>\n",
       "    </tr>\n",
       "  </tbody>\n",
       "</table>\n",
       "</div>"
      ],
      "text/plain": [
       "   p_recall   timestamp     delta user_id learning_language ui_language  \\\n",
       "0       1.0  1362076081  27649635    u:FO                de          en   \n",
       "1       0.5  1362076081  27649635    u:FO                de          en   \n",
       "2       1.0  1362076081  27649635    u:FO                de          en   \n",
       "3       0.5  1362076081  27649635    u:FO                de          en   \n",
       "4       1.0  1362076081  27649635    u:FO                de          en   \n",
       "\n",
       "                          lexeme_id                     lexeme_string  \\\n",
       "0  76390c1350a8dac31186187e2fe1e178  lernt/lernen<vblex><pri><p3><sg>   \n",
       "1  7dfd7086f3671685e2cf1c1da72796d7     die/die<det><def><f><sg><nom>   \n",
       "2  35a54c25a2cda8127343f6a82e6f6b7d          mann/mann<n><m><sg><nom>   \n",
       "3  0cf63ffe3dda158bc3dbd55682b355ae          frau/frau<n><f><sg><nom>   \n",
       "4  84920990d78044db53c1b012f5bf9ab5    das/das<det><def><nt><sg><nom>   \n",
       "\n",
       "   history_seen  history_correct  session_seen  session_correct  \n",
       "0             6                4             2                2  \n",
       "1             4                4             2                1  \n",
       "2             5                4             1                1  \n",
       "3             6                5             2                1  \n",
       "4             4                4             1                1  "
      ]
     },
     "execution_count": 33,
     "metadata": {},
     "output_type": "execute_result"
    }
   ],
   "source": [
    "pro_5.head(5)"
   ]
  },
  {
   "cell_type": "markdown",
   "metadata": {},
   "source": [
    "#### 1. Scatter plot the relation between session_seen and p_recall"
   ]
  },
  {
   "cell_type": "code",
   "execution_count": 34,
   "metadata": {},
   "outputs": [
    {
     "data": {
      "text/plain": [
       "<AxesSubplot:xlabel='session_seen', ylabel='p_recall'>"
      ]
     },
     "execution_count": 34,
     "metadata": {},
     "output_type": "execute_result"
    },
    {
     "data": {
      "image/png": "[encoded data removed]",
      "text/plain": [
       "<Figure size 432x288 with 1 Axes>"
      ]
     },
     "metadata": {
      "needs_background": "light"
     },
     "output_type": "display_data"
    }
   ],
   "source": [
    "# Type you answer below \n",
    "sns.scatterplot(data=pro_5, x=\"session_seen\", y=\"p_recall\")"
   ]
  },
  {
   "cell_type": "markdown",
   "metadata": {},
   "source": [
    "#### 2. Scatter plot the same distribution with log scale. "
   ]
  },
  {
   "cell_type": "code",
   "execution_count": 35,
   "metadata": {},
   "outputs": [
    {
     "data": {
      "image/png": "[encoded data removed]",
      "text/plain": [
       "<Figure size 432x288 with 1 Axes>"
      ]
     },
     "metadata": {
      "needs_background": "light"
     },
     "output_type": "display_data"
    }
   ],
   "source": [
    "# Type you answer below \n",
    "sns.scatterplot(data=pro_5, x=\"session_seen\", y=\"p_recall\")\n",
    "plt.yscale('log')"
   ]
  },
  {
   "cell_type": "markdown",
   "metadata": {},
   "source": [
    "#### 3. Goupby session_seen and take aveage on it as x, and scatter plot relation with p_recall as y"
   ]
  },
  {
   "cell_type": "code",
   "execution_count": 36,
   "metadata": {},
   "outputs": [
    {
     "data": {
      "text/plain": [
       "<seaborn.axisgrid.FacetGrid at 0x7f9bd6d9d1f0>"
      ]
     },
     "execution_count": 36,
     "metadata": {},
     "output_type": "execute_result"
    },
    {
     "data": {
      "image/png": "[encoded data removed]",
      "text/plain": [
       "<Figure size 360x360 with 1 Axes>"
      ]
     },
     "metadata": {
      "needs_background": "light"
     },
     "output_type": "display_data"
    }
   ],
   "source": [
    "# hint: use groupby(), and mean() functions\n",
    "# Type you answer below \n",
    "pro_5_t = pro_5.groupby(['session_seen']).mean()\n",
    "pro_5_t.head(10)\n",
    "#sns.scatterplot(data=pro_5, x=pro_5, y=\"p_recall\")\n",
    "sns.relplot(kind='line', data=pro_5_t, x='session_seen', y=\"p_recall\")"
   ]
  },
  {
   "cell_type": "markdown",
   "metadata": {},
   "source": [
    "#### 4. Goupby history_seen and take aveage on it as x, and scatter plot relation with p_recall as y"
   ]
  },
  {
   "cell_type": "code",
   "execution_count": 107,
   "metadata": {},
   "outputs": [
    {
     "data": {
      "image/png": "[encoded data removed]",
      "text/plain": [
       "<Figure size 360x360 with 1 Axes>"
      ]
     },
     "metadata": {},
     "output_type": "display_data"
    }
   ],
   "source": [
    "# Type you answer below \n",
    "sns.set(rc={\"figure.figsize\":(5, 3)})\n",
    "pro_5_t2 = pro_5.groupby(['history_seen']).mean()\n",
    "pro_5_t2.head(10)\n",
    "sns.relplot(kind='line', data=pro_5_t2, x='history_seen', y=\"p_recall\")\n",
    "# plt方法\n",
    "#plt.plot(user_act.groupby('history_seen').mean()['p_recall'])\n",
    "plt.xlim(0,200)\n",
    "plt.ylim(0.8,1)\n",
    "plt.xlabel('history_seen')\n",
    "plt.ylabel('p_recall')\n",
    "plt.show()"
   ]
  },
  {
   "cell_type": "markdown",
   "metadata": {},
   "source": [
    "#### 5. Scatter plot the relation history_seen and p_recall when session_seen is greater than 5"
   ]
  },
  {
   "cell_type": "code",
   "execution_count": 108,
   "metadata": {},
   "outputs": [
    {
     "data": {
      "image/png": "[encoded data removed]",
      "text/plain": [
       "<Figure size 360x216 with 1 Axes>"
      ]
     },
     "metadata": {},
     "output_type": "display_data"
    }
   ],
   "source": [
    "# Type you answer below \n",
    "pro_5_t3 = pro_5[pro_5.session_seen >5]\n",
    "#sns.scatterplot(data=pro_5_t3, x=\"history_seen\", y=\"p_recall\")\n",
    "plt.scatter(pro_5_t3['history_seen'],pro_5_t3['p_recall'])\n",
    "plt.xlabel('History seen')\n",
    "plt.ylabel('P recall')\n",
    "plt.xscale('log')\n",
    "plt.show()"
   ]
  },
  {
   "cell_type": "markdown",
   "metadata": {},
   "source": [
    "#### 6. Hexbin plot the relation between history_seen and p_recal with log scale"
   ]
  },
  {
   "cell_type": "code",
   "execution_count": 127,
   "metadata": {},
   "outputs": [
    {
     "data": {
      "image/png": "[encoded data removed]",
      "text/plain": [
       "<Figure size 360x216 with 1 Axes>"
      ]
     },
     "metadata": {},
     "output_type": "display_data"
    }
   ],
   "source": [
    "# hint: hexbin()\n",
    "# Type you answer below \n",
    "plt.hexbin(pro_5[\"history_seen\"],pro_5[\"p_recall\"],gridsize = 20, xscale ='log',bins = 'log',cmap=\"Oranges\")\n",
    "plt.show() "
   ]
  },
  {
   "cell_type": "markdown",
   "metadata": {},
   "source": [
    "#### 7. Create a dataframe with user_id and user_activity based on user_id index"
   ]
  },
  {
   "cell_type": "code",
   "execution_count": 40,
   "metadata": {},
   "outputs": [
    {
     "data": {
      "text/html": [
       "<div>\n",
       "<style scoped>\n",
       "    .dataframe tbody tr th:only-of-type {\n",
       "        vertical-align: middle;\n",
       "    }\n",
       "\n",
       "    .dataframe tbody tr th {\n",
       "        vertical-align: top;\n",
       "    }\n",
       "\n",
       "    .dataframe thead th {\n",
       "        text-align: right;\n",
       "    }\n",
       "</style>\n",
       "<table border=\"1\" class=\"dataframe\">\n",
       "  <thead>\n",
       "    <tr style=\"text-align: right;\">\n",
       "      <th></th>\n",
       "      <th>user_id</th>\n",
       "      <th>user_activity</th>\n",
       "    </tr>\n",
       "  </thead>\n",
       "  <tbody>\n",
       "    <tr>\n",
       "      <th>0</th>\n",
       "      <td>u:ia1J</td>\n",
       "      <td>2041</td>\n",
       "    </tr>\n",
       "    <tr>\n",
       "      <th>1</th>\n",
       "      <td>u:bcH_</td>\n",
       "      <td>1531</td>\n",
       "    </tr>\n",
       "    <tr>\n",
       "      <th>2</th>\n",
       "      <td>u:eMgB</td>\n",
       "      <td>1233</td>\n",
       "    </tr>\n",
       "    <tr>\n",
       "      <th>3</th>\n",
       "      <td>u:wpZ</td>\n",
       "      <td>1230</td>\n",
       "    </tr>\n",
       "    <tr>\n",
       "      <th>4</th>\n",
       "      <td>u:gp3v</td>\n",
       "      <td>1037</td>\n",
       "    </tr>\n",
       "    <tr>\n",
       "      <th>5</th>\n",
       "      <td>u:hCqJ</td>\n",
       "      <td>1033</td>\n",
       "    </tr>\n",
       "  </tbody>\n",
       "</table>\n",
       "</div>"
      ],
      "text/plain": [
       "  user_id  user_activity\n",
       "0  u:ia1J           2041\n",
       "1  u:bcH_           1531\n",
       "2  u:eMgB           1233\n",
       "3   u:wpZ           1230\n",
       "4  u:gp3v           1037\n",
       "5  u:hCqJ           1033"
      ]
     },
     "execution_count": 40,
     "metadata": {},
     "output_type": "execute_result"
    }
   ],
   "source": [
    "# create an empty dataframe and set index to user_id\n",
    "# Type you answer below \n",
    "# reverse 'value_counts()'频数表转为‘dataframe’\n",
    "pro_5_t4 = pro_5['user_id'].value_counts().rename_axis('user_id').reset_index(name ='user_activity')\n",
    "#pro_5_t4['user_id'] = pro_5.user_id\n",
    "#pro_5_t4['user_activity'] = pro_5.entries # entries 不work\n",
    "pro_5_t4.head(6)"
   ]
  },
  {
   "cell_type": "code",
   "execution_count": 41,
   "metadata": {},
   "outputs": [
    {
     "data": {
      "text/html": [
       "<div>\n",
       "<style scoped>\n",
       "    .dataframe tbody tr th:only-of-type {\n",
       "        vertical-align: middle;\n",
       "    }\n",
       "\n",
       "    .dataframe tbody tr th {\n",
       "        vertical-align: top;\n",
       "    }\n",
       "\n",
       "    .dataframe thead th {\n",
       "        text-align: right;\n",
       "    }\n",
       "</style>\n",
       "<table border=\"1\" class=\"dataframe\">\n",
       "  <thead>\n",
       "    <tr style=\"text-align: right;\">\n",
       "      <th></th>\n",
       "      <th>user_id</th>\n",
       "      <th>user_activity</th>\n",
       "    </tr>\n",
       "  </thead>\n",
       "  <tbody>\n",
       "    <tr>\n",
       "      <th>20194</th>\n",
       "      <td>u:hDzc</td>\n",
       "      <td>1</td>\n",
       "    </tr>\n",
       "    <tr>\n",
       "      <th>20195</th>\n",
       "      <td>u:hRKr</td>\n",
       "      <td>1</td>\n",
       "    </tr>\n",
       "    <tr>\n",
       "      <th>20196</th>\n",
       "      <td>u:eY-r</td>\n",
       "      <td>1</td>\n",
       "    </tr>\n",
       "    <tr>\n",
       "      <th>20197</th>\n",
       "      <td>u:hVVH</td>\n",
       "      <td>1</td>\n",
       "    </tr>\n",
       "    <tr>\n",
       "      <th>20198</th>\n",
       "      <td>u:izs5</td>\n",
       "      <td>1</td>\n",
       "    </tr>\n",
       "    <tr>\n",
       "      <th>20199</th>\n",
       "      <td>u:c179</td>\n",
       "      <td>1</td>\n",
       "    </tr>\n",
       "    <tr>\n",
       "      <th>20200</th>\n",
       "      <td>u:hDND</td>\n",
       "      <td>1</td>\n",
       "    </tr>\n",
       "    <tr>\n",
       "      <th>20201</th>\n",
       "      <td>u:hSOs</td>\n",
       "      <td>1</td>\n",
       "    </tr>\n",
       "    <tr>\n",
       "      <th>20202</th>\n",
       "      <td>u:iaOD</td>\n",
       "      <td>1</td>\n",
       "    </tr>\n",
       "    <tr>\n",
       "      <th>20203</th>\n",
       "      <td>u:cKww</td>\n",
       "      <td>1</td>\n",
       "    </tr>\n",
       "  </tbody>\n",
       "</table>\n",
       "</div>"
      ],
      "text/plain": [
       "      user_id  user_activity\n",
       "20194  u:hDzc              1\n",
       "20195  u:hRKr              1\n",
       "20196  u:eY-r              1\n",
       "20197  u:hVVH              1\n",
       "20198  u:izs5              1\n",
       "20199  u:c179              1\n",
       "20200  u:hDND              1\n",
       "20201  u:hSOs              1\n",
       "20202  u:iaOD              1\n",
       "20203  u:cKww              1"
      ]
     },
     "execution_count": 41,
     "metadata": {},
     "output_type": "execute_result"
    }
   ],
   "source": [
    "pro_5_t4.iloc[-10:,:]"
   ]
  },
  {
   "cell_type": "code",
   "execution_count": 42,
   "metadata": {},
   "outputs": [
    {
     "data": {
      "text/plain": [
       "(20204, 2)"
      ]
     },
     "execution_count": 42,
     "metadata": {},
     "output_type": "execute_result"
    }
   ],
   "source": [
    "pro_5_t4.shape"
   ]
  },
  {
   "cell_type": "markdown",
   "metadata": {},
   "source": [
    "#### 8. Merge dataframe a onto original dataframe"
   ]
  },
  {
   "cell_type": "code",
   "execution_count": 66,
   "metadata": {},
   "outputs": [
    {
     "name": "stdout",
     "output_type": "stream",
     "text": [
      "<class 'pandas.core.frame.DataFrame'>\n",
      "Int64Index: 1000000 entries, 0 to 999999\n",
      "Data columns (total 14 columns):\n",
      " #   Column             Non-Null Count    Dtype   \n",
      "---  ------             --------------    -----   \n",
      " 0   p_recall           1000000 non-null  float64 \n",
      " 1   timestamp          1000000 non-null  int64   \n",
      " 2   delta              1000000 non-null  int64   \n",
      " 3   user_id            1000000 non-null  object  \n",
      " 4   learning_language  1000000 non-null  object  \n",
      " 5   ui_language        1000000 non-null  object  \n",
      " 6   lexeme_id          1000000 non-null  object  \n",
      " 7   lexeme_string      1000000 non-null  object  \n",
      " 8   history_seen       1000000 non-null  int64   \n",
      " 9   history_correct    1000000 non-null  int64   \n",
      " 10  session_seen       1000000 non-null  int64   \n",
      " 11  session_correct    1000000 non-null  int64   \n",
      " 12  user_activity      1000000 non-null  int64   \n",
      " 13  _merge             1000000 non-null  category\n",
      "dtypes: category(1), float64(1), int64(7), object(5)\n",
      "memory usage: 107.8+ MB\n"
     ]
    }
   ],
   "source": [
    "#hint: merge(), pay attention to how to merge(inner, outer....)\n",
    "#Type you answer below \n",
    "#pro_5_t5 = pd.concat([pro_5,pro_5_t4],axis =1, join='inner')\n",
    "#pro_5_t5.info()\n",
    "#pro_5_t5.head()\n",
    "pro_5_t5 = pd.merge(pro_5,pro_5_t4,on='user_id',how='inner',indicator = True)\n",
    "pro_5_t5.info()"
   ]
  },
  {
   "cell_type": "code",
   "execution_count": 67,
   "metadata": {},
   "outputs": [
    {
     "data": {
      "text/html": [
       "<div>\n",
       "<style scoped>\n",
       "    .dataframe tbody tr th:only-of-type {\n",
       "        vertical-align: middle;\n",
       "    }\n",
       "\n",
       "    .dataframe tbody tr th {\n",
       "        vertical-align: top;\n",
       "    }\n",
       "\n",
       "    .dataframe thead th {\n",
       "        text-align: right;\n",
       "    }\n",
       "</style>\n",
       "<table border=\"1\" class=\"dataframe\">\n",
       "  <thead>\n",
       "    <tr style=\"text-align: right;\">\n",
       "      <th></th>\n",
       "      <th>p_recall</th>\n",
       "      <th>timestamp</th>\n",
       "      <th>delta</th>\n",
       "      <th>user_id</th>\n",
       "      <th>learning_language</th>\n",
       "      <th>ui_language</th>\n",
       "      <th>lexeme_id</th>\n",
       "      <th>lexeme_string</th>\n",
       "      <th>history_seen</th>\n",
       "      <th>history_correct</th>\n",
       "      <th>session_seen</th>\n",
       "      <th>session_correct</th>\n",
       "      <th>user_activity</th>\n",
       "      <th>_merge</th>\n",
       "    </tr>\n",
       "  </thead>\n",
       "  <tbody>\n",
       "    <tr>\n",
       "      <th>835603</th>\n",
       "      <td>1.0</td>\n",
       "      <td>1362144823</td>\n",
       "      <td>2876694</td>\n",
       "      <td>u:ePPw</td>\n",
       "      <td>en</td>\n",
       "      <td>es</td>\n",
       "      <td>1e7dcbc00315ba13f388fe7ed272db21</td>\n",
       "      <td>swim/swim&lt;vblex&gt;&lt;inf&gt;</td>\n",
       "      <td>6</td>\n",
       "      <td>6</td>\n",
       "      <td>1</td>\n",
       "      <td>1</td>\n",
       "      <td>329</td>\n",
       "      <td>both</td>\n",
       "    </tr>\n",
       "    <tr>\n",
       "      <th>686248</th>\n",
       "      <td>1.0</td>\n",
       "      <td>1362120261</td>\n",
       "      <td>13503154</td>\n",
       "      <td>u:bWbZ</td>\n",
       "      <td>fr</td>\n",
       "      <td>en</td>\n",
       "      <td>0ba76e542975db89c0290ba705f4fe9d</td>\n",
       "      <td>ses/son&lt;det&gt;&lt;pos&gt;&lt;mf&gt;&lt;pl&gt;</td>\n",
       "      <td>9</td>\n",
       "      <td>9</td>\n",
       "      <td>2</td>\n",
       "      <td>2</td>\n",
       "      <td>133</td>\n",
       "      <td>both</td>\n",
       "    </tr>\n",
       "    <tr>\n",
       "      <th>55040</th>\n",
       "      <td>1.0</td>\n",
       "      <td>1362083721</td>\n",
       "      <td>67867</td>\n",
       "      <td>u:iCW9</td>\n",
       "      <td>en</td>\n",
       "      <td>es</td>\n",
       "      <td>6d67c94cb5df94bae1d8f5f101db72a7</td>\n",
       "      <td>dress/dress&lt;n&gt;&lt;sg&gt;</td>\n",
       "      <td>2</td>\n",
       "      <td>2</td>\n",
       "      <td>2</td>\n",
       "      <td>2</td>\n",
       "      <td>15</td>\n",
       "      <td>both</td>\n",
       "    </tr>\n",
       "    <tr>\n",
       "      <th>777193</th>\n",
       "      <td>0.0</td>\n",
       "      <td>1362155785</td>\n",
       "      <td>4805</td>\n",
       "      <td>u:gL_n</td>\n",
       "      <td>en</td>\n",
       "      <td>it</td>\n",
       "      <td>1e1f8d730c4ba99ad2873a7608324cf6</td>\n",
       "      <td>my/my&lt;det&gt;&lt;pos&gt;&lt;sp&gt;</td>\n",
       "      <td>250</td>\n",
       "      <td>113</td>\n",
       "      <td>1</td>\n",
       "      <td>0</td>\n",
       "      <td>600</td>\n",
       "      <td>both</td>\n",
       "    </tr>\n",
       "    <tr>\n",
       "      <th>633508</th>\n",
       "      <td>1.0</td>\n",
       "      <td>1362112696</td>\n",
       "      <td>77497</td>\n",
       "      <td>u:duul</td>\n",
       "      <td>fr</td>\n",
       "      <td>en</td>\n",
       "      <td>dd319e2880bfb05dfc4bb230a6cd2e38</td>\n",
       "      <td>neuf/neuf&lt;num&gt;&lt;mf&gt;&lt;sp&gt;</td>\n",
       "      <td>4</td>\n",
       "      <td>4</td>\n",
       "      <td>2</td>\n",
       "      <td>2</td>\n",
       "      <td>232</td>\n",
       "      <td>both</td>\n",
       "    </tr>\n",
       "  </tbody>\n",
       "</table>\n",
       "</div>"
      ],
      "text/plain": [
       "        p_recall   timestamp     delta user_id learning_language ui_language  \\\n",
       "835603       1.0  1362144823   2876694  u:ePPw                en          es   \n",
       "686248       1.0  1362120261  13503154  u:bWbZ                fr          en   \n",
       "55040        1.0  1362083721     67867  u:iCW9                en          es   \n",
       "777193       0.0  1362155785      4805  u:gL_n                en          it   \n",
       "633508       1.0  1362112696     77497  u:duul                fr          en   \n",
       "\n",
       "                               lexeme_id              lexeme_string  \\\n",
       "835603  1e7dcbc00315ba13f388fe7ed272db21      swim/swim<vblex><inf>   \n",
       "686248  0ba76e542975db89c0290ba705f4fe9d  ses/son<det><pos><mf><pl>   \n",
       "55040   6d67c94cb5df94bae1d8f5f101db72a7         dress/dress<n><sg>   \n",
       "777193  1e1f8d730c4ba99ad2873a7608324cf6        my/my<det><pos><sp>   \n",
       "633508  dd319e2880bfb05dfc4bb230a6cd2e38     neuf/neuf<num><mf><sp>   \n",
       "\n",
       "        history_seen  history_correct  session_seen  session_correct  \\\n",
       "835603             6                6             1                1   \n",
       "686248             9                9             2                2   \n",
       "55040              2                2             2                2   \n",
       "777193           250              113             1                0   \n",
       "633508             4                4             2                2   \n",
       "\n",
       "        user_activity _merge  \n",
       "835603            329   both  \n",
       "686248            133   both  \n",
       "55040              15   both  \n",
       "777193            600   both  \n",
       "633508            232   both  "
      ]
     },
     "execution_count": 67,
     "metadata": {},
     "output_type": "execute_result"
    }
   ],
   "source": [
    "pro_5_t5.sample(5,random_state = 9)"
   ]
  },
  {
   "cell_type": "markdown",
   "metadata": {},
   "source": [
    "#### 9. Get summary statistics of p_recall when user_activity is less than 8 and greater than 59 respectively"
   ]
  },
  {
   "cell_type": "code",
   "execution_count": 45,
   "metadata": {},
   "outputs": [
    {
     "data": {
      "text/plain": [
       "count    21922.000000\n",
       "mean         0.902981\n",
       "std          0.192375\n",
       "min          0.000000\n",
       "25%          0.833333\n",
       "50%          1.000000\n",
       "75%          1.000000\n",
       "max          1.000000\n",
       "Name: p_recall, dtype: float64"
      ]
     },
     "execution_count": 45,
     "metadata": {},
     "output_type": "execute_result"
    }
   ],
   "source": [
    "# Type you answer below \n",
    "pro_5_t5[pro_5_t5['user_activity'] < 8]['p_recall'].describe()"
   ]
  },
  {
   "cell_type": "code",
   "execution_count": 46,
   "metadata": {},
   "outputs": [
    {
     "data": {
      "text/plain": [
       "count    691724.000000\n",
       "mean          0.894502\n",
       "std           0.281582\n",
       "min           0.000000\n",
       "25%           1.000000\n",
       "50%           1.000000\n",
       "75%           1.000000\n",
       "max           1.000000\n",
       "Name: p_recall, dtype: float64"
      ]
     },
     "execution_count": 46,
     "metadata": {},
     "output_type": "execute_result"
    }
   ],
   "source": [
    "pro_5_t5[pro_5_t5['user_activity']>59]['p_recall'].describe()"
   ]
  },
  {
   "cell_type": "markdown",
   "metadata": {},
   "source": [
    "#### 10. Hexbin plot the relation between delta and p_recall with log scale"
   ]
  },
  {
   "cell_type": "code",
   "execution_count": 126,
   "metadata": {},
   "outputs": [
    {
     "data": {
      "image/png": "[encoded data removed]",
      "text/plain": [
       "<Figure size 360x216 with 1 Axes>"
      ]
     },
     "metadata": {},
     "output_type": "display_data"
    }
   ],
   "source": [
    "# Type you answer below \n",
    "x= pro_5[\"delta\"]\n",
    "y= pro_5[\"p_recall\"]\n",
    "plt.hexbin(x, y,gridsize =30,bins = 'log',xscale = 'log',cmap=\"Blues\")\n",
    "plt.show() "
   ]
  },
  {
   "cell_type": "code",
   "execution_count": 48,
   "metadata": {},
   "outputs": [
    {
     "name": "stdout",
     "output_type": "stream",
     "text": [
      "/bin/bash: -c: line 0: syntax error near unexpected token `attachment:image.png'\r\n",
      "/bin/bash: -c: line 0: `[image.png](attachment:image.png)'\r\n"
     ]
    }
   ],
   "source": [
    "# hint: hexbin plot would look like this \n",
    "![image.png](attachment:image.png)"
   ]
  },
  {
   "cell_type": "markdown",
   "metadata": {},
   "source": [
    "#### 11. Scatter plot relation between user_activity and delta"
   ]
  },
  {
   "cell_type": "code",
   "execution_count": 50,
   "metadata": {},
   "outputs": [
    {
     "data": {
      "text/plain": [
       "<AxesSubplot:xlabel='user_activity', ylabel='delta'>"
      ]
     },
     "execution_count": 50,
     "metadata": {},
     "output_type": "execute_result"
    },
    {
     "data": {
      "image/png": "[encoded data removed]",
      "text/plain": [
       "<Figure size 432x288 with 1 Axes>"
      ]
     },
     "metadata": {
      "needs_background": "light"
     },
     "output_type": "display_data"
    }
   ],
   "source": [
    "# Type you answer below \n",
    "#sns.scatterplot(data=pro_5_t5, x=\"user_activity\", y=\"delta\")\n",
    "sns.stripplot(data=pro_5_t5, x=\"user_activity\", y=\"delta\")\n",
    "#sns.swarmplot(data=pro_5_t5, x=\"user_activity\", y=\"delta\")"
   ]
  },
  {
   "cell_type": "markdown",
   "metadata": {},
   "source": [
    "#### 12. Hexbin plot the relation between user_activity and delta with log scale"
   ]
  },
  {
   "cell_type": "markdown",
   "metadata": {},
   "source": [
    "## Temporal patterns and Time Series"
   ]
  },
  {
   "cell_type": "code",
   "execution_count": 129,
   "metadata": {},
   "outputs": [
    {
     "data": {
      "image/png": "[encoded data removed]",
      "text/plain": [
       "<Figure size 360x216 with 1 Axes>"
      ]
     },
     "metadata": {},
     "output_type": "display_data"
    }
   ],
   "source": [
    "# Type you answer below \n",
    "x= pro_5_t5[\"user_activity\"]\n",
    "y= pro_5_t5[\"delta\"]\n",
    "plt.hexbin(x, y,gridsize =10,bins = 'log',yscale='log',xscale = 'log',cmap=\"Blues\")\n",
    "plt.show() "
   ]
  },
  {
   "cell_type": "markdown",
   "metadata": {},
   "source": [
    "#### 1. Plot the general all users activity pattern to see what time people are pretty active during a day"
   ]
  },
  {
   "cell_type": "code",
   "execution_count": 130,
   "metadata": {},
   "outputs": [
    {
     "data": {
      "text/plain": [
       "146.0    1624\n",
       "436.0    1557\n",
       "211.0    1551\n",
       "199.0    1528\n",
       "176.0    1507\n",
       "         ... \n",
       "105.0       7\n",
       "0.0         7\n",
       "104.0       6\n",
       "102.0       4\n",
       "101.0       1\n",
       "Name: timestamp, Length: 1311, dtype: int64"
      ]
     },
     "execution_count": 130,
     "metadata": {},
     "output_type": "execute_result"
    }
   ],
   "source": [
    "np.round((pro_5.timestamp - pro_5.timestamp.min())/60.0,0).value_counts()"
   ]
  },
  {
   "cell_type": "code",
   "execution_count": 131,
   "metadata": {},
   "outputs": [
    {
     "data": {
      "text/plain": [
       "[<matplotlib.lines.Line2D at 0x7f9b9754a4c0>]"
      ]
     },
     "execution_count": 131,
     "metadata": {},
     "output_type": "execute_result"
    },
    {
     "data": {
      "image/png": "[encoded data removed]",
      "text/plain": [
       "<Figure size 360x216 with 1 Axes>"
      ]
     },
     "metadata": {},
     "output_type": "display_data"
    }
   ],
   "source": [
    "plt.plot(np.round((pro_5.timestamp - pro_5.timestamp.min())/60.0,0).value_counts().sort_index())"
   ]
  },
  {
   "cell_type": "code",
   "execution_count": 65,
   "metadata": {},
   "outputs": [
    {
     "data": {
      "image/png": "[encoded data removed]",
      "text/plain": [
       "<Figure size 432x288 with 1 Axes>"
      ]
     },
     "metadata": {
      "needs_background": "light"
     },
     "output_type": "display_data"
    }
   ],
   "source": [
    "# Type you answer below \n",
    "#sns.set(rc={'figure.figsize':(11,4)})\n",
    "pro_5_t5['user_activity'].plot(linewidth=0.5); \n",
    "# user activity in each day time, comparing to other times\n",
    "#you can see 03/01-12:00-03/01-15:00, user is more active, what day is 03/01, app promotion day?\n",
    "#sns.lineplot(x = 'timestamp', y = 'user_activity',data = pro_5_t5)"
   ]
  },
  {
   "cell_type": "code",
   "execution_count": 132,
   "metadata": {},
   "outputs": [
    {
     "data": {
      "text/html": [
       "<div>\n",
       "<style scoped>\n",
       "    .dataframe tbody tr th:only-of-type {\n",
       "        vertical-align: middle;\n",
       "    }\n",
       "\n",
       "    .dataframe tbody tr th {\n",
       "        vertical-align: top;\n",
       "    }\n",
       "\n",
       "    .dataframe thead th {\n",
       "        text-align: right;\n",
       "    }\n",
       "</style>\n",
       "<table border=\"1\" class=\"dataframe\">\n",
       "  <thead>\n",
       "    <tr style=\"text-align: right;\">\n",
       "      <th></th>\n",
       "      <th>p_recall</th>\n",
       "      <th>timestamp</th>\n",
       "      <th>delta</th>\n",
       "      <th>user_id</th>\n",
       "      <th>learning_language</th>\n",
       "      <th>ui_language</th>\n",
       "      <th>lexeme_id</th>\n",
       "      <th>lexeme_string</th>\n",
       "      <th>history_seen</th>\n",
       "      <th>history_correct</th>\n",
       "      <th>session_seen</th>\n",
       "      <th>session_correct</th>\n",
       "      <th>user_activity</th>\n",
       "      <th>_merge</th>\n",
       "    </tr>\n",
       "  </thead>\n",
       "  <tbody>\n",
       "    <tr>\n",
       "      <th>139065</th>\n",
       "      <td>1.000000</td>\n",
       "      <td>2013-02-28 21:14:47</td>\n",
       "      <td>57</td>\n",
       "      <td>u:hIye</td>\n",
       "      <td>de</td>\n",
       "      <td>en</td>\n",
       "      <td>96e400fdbb0c09c224142b771abf2cbd</td>\n",
       "      <td>eine/ein&lt;det&gt;&lt;ind&gt;&lt;f&gt;&lt;sg&gt;&lt;acc&gt;</td>\n",
       "      <td>33</td>\n",
       "      <td>28</td>\n",
       "      <td>1</td>\n",
       "      <td>1</td>\n",
       "      <td>202</td>\n",
       "      <td>both</td>\n",
       "    </tr>\n",
       "    <tr>\n",
       "      <th>152813</th>\n",
       "      <td>0.666667</td>\n",
       "      <td>2013-02-28 21:19:43</td>\n",
       "      <td>544300</td>\n",
       "      <td>u:h1cs</td>\n",
       "      <td>en</td>\n",
       "      <td>es</td>\n",
       "      <td>55f383178cf0fdc463ef1ebf91bd288d</td>\n",
       "      <td>milk/milk&lt;n&gt;&lt;sg&gt;</td>\n",
       "      <td>8</td>\n",
       "      <td>8</td>\n",
       "      <td>3</td>\n",
       "      <td>2</td>\n",
       "      <td>28</td>\n",
       "      <td>both</td>\n",
       "    </tr>\n",
       "    <tr>\n",
       "      <th>373527</th>\n",
       "      <td>1.000000</td>\n",
       "      <td>2013-03-01 15:25:53</td>\n",
       "      <td>1955766</td>\n",
       "      <td>u:fr7i</td>\n",
       "      <td>es</td>\n",
       "      <td>en</td>\n",
       "      <td>192059cfe22cedd84cd400a9b1b47171</td>\n",
       "      <td>nuestra/nuestro&lt;det&gt;&lt;pos&gt;&lt;f&gt;&lt;sg&gt;</td>\n",
       "      <td>4</td>\n",
       "      <td>3</td>\n",
       "      <td>2</td>\n",
       "      <td>2</td>\n",
       "      <td>32</td>\n",
       "      <td>both</td>\n",
       "    </tr>\n",
       "    <tr>\n",
       "      <th>550380</th>\n",
       "      <td>1.000000</td>\n",
       "      <td>2013-03-01 08:14:27</td>\n",
       "      <td>7169</td>\n",
       "      <td>u:f15i</td>\n",
       "      <td>es</td>\n",
       "      <td>en</td>\n",
       "      <td>c2c8a202a12411858f87d4dcef5b2998</td>\n",
       "      <td>no/no&lt;adv&gt;</td>\n",
       "      <td>126</td>\n",
       "      <td>122</td>\n",
       "      <td>1</td>\n",
       "      <td>1</td>\n",
       "      <td>340</td>\n",
       "      <td>both</td>\n",
       "    </tr>\n",
       "    <tr>\n",
       "      <th>679133</th>\n",
       "      <td>1.000000</td>\n",
       "      <td>2013-03-01 06:17:21</td>\n",
       "      <td>179422</td>\n",
       "      <td>u:iwZo</td>\n",
       "      <td>es</td>\n",
       "      <td>en</td>\n",
       "      <td>fe4377ddaff79e95ebee452005f55c11</td>\n",
       "      <td>rojo/rojo&lt;adj&gt;&lt;m&gt;&lt;sg&gt;</td>\n",
       "      <td>2</td>\n",
       "      <td>2</td>\n",
       "      <td>3</td>\n",
       "      <td>3</td>\n",
       "      <td>35</td>\n",
       "      <td>both</td>\n",
       "    </tr>\n",
       "  </tbody>\n",
       "</table>\n",
       "</div>"
      ],
      "text/plain": [
       "        p_recall           timestamp    delta user_id learning_language  \\\n",
       "139065  1.000000 2013-02-28 21:14:47       57  u:hIye                de   \n",
       "152813  0.666667 2013-02-28 21:19:43   544300  u:h1cs                en   \n",
       "373527  1.000000 2013-03-01 15:25:53  1955766  u:fr7i                es   \n",
       "550380  1.000000 2013-03-01 08:14:27     7169  u:f15i                es   \n",
       "679133  1.000000 2013-03-01 06:17:21   179422  u:iwZo                es   \n",
       "\n",
       "       ui_language                         lexeme_id  \\\n",
       "139065          en  96e400fdbb0c09c224142b771abf2cbd   \n",
       "152813          es  55f383178cf0fdc463ef1ebf91bd288d   \n",
       "373527          en  192059cfe22cedd84cd400a9b1b47171   \n",
       "550380          en  c2c8a202a12411858f87d4dcef5b2998   \n",
       "679133          en  fe4377ddaff79e95ebee452005f55c11   \n",
       "\n",
       "                           lexeme_string  history_seen  history_correct  \\\n",
       "139065    eine/ein<det><ind><f><sg><acc>            33               28   \n",
       "152813                  milk/milk<n><sg>             8                8   \n",
       "373527  nuestra/nuestro<det><pos><f><sg>             4                3   \n",
       "550380                        no/no<adv>           126              122   \n",
       "679133             rojo/rojo<adj><m><sg>             2                2   \n",
       "\n",
       "        session_seen  session_correct  user_activity _merge  \n",
       "139065             1                1            202   both  \n",
       "152813             3                2             28   both  \n",
       "373527             2                2             32   both  \n",
       "550380             1                1            340   both  \n",
       "679133             3                3             35   both  "
      ]
     },
     "execution_count": 132,
     "metadata": {},
     "output_type": "execute_result"
    }
   ],
   "source": [
    "# You can use datetime library to convert timestamp to actual datetime\n",
    "pro_5_t5['timestamp'] = pd.to_datetime(pro_5_t5['timestamp'],unit ='s')\n",
    "pro_5_t5.sample(5)"
   ]
  },
  {
   "cell_type": "code",
   "execution_count": 133,
   "metadata": {},
   "outputs": [
    {
     "data": {
      "text/html": [
       "<div>\n",
       "<style scoped>\n",
       "    .dataframe tbody tr th:only-of-type {\n",
       "        vertical-align: middle;\n",
       "    }\n",
       "\n",
       "    .dataframe tbody tr th {\n",
       "        vertical-align: top;\n",
       "    }\n",
       "\n",
       "    .dataframe thead th {\n",
       "        text-align: right;\n",
       "    }\n",
       "</style>\n",
       "<table border=\"1\" class=\"dataframe\">\n",
       "  <thead>\n",
       "    <tr style=\"text-align: right;\">\n",
       "      <th></th>\n",
       "      <th>p_recall</th>\n",
       "      <th>delta</th>\n",
       "      <th>user_id</th>\n",
       "      <th>learning_language</th>\n",
       "      <th>ui_language</th>\n",
       "      <th>lexeme_id</th>\n",
       "      <th>lexeme_string</th>\n",
       "      <th>history_seen</th>\n",
       "      <th>history_correct</th>\n",
       "      <th>session_seen</th>\n",
       "      <th>session_correct</th>\n",
       "      <th>user_activity</th>\n",
       "      <th>_merge</th>\n",
       "    </tr>\n",
       "    <tr>\n",
       "      <th>timestamp</th>\n",
       "      <th></th>\n",
       "      <th></th>\n",
       "      <th></th>\n",
       "      <th></th>\n",
       "      <th></th>\n",
       "      <th></th>\n",
       "      <th></th>\n",
       "      <th></th>\n",
       "      <th></th>\n",
       "      <th></th>\n",
       "      <th></th>\n",
       "      <th></th>\n",
       "      <th></th>\n",
       "    </tr>\n",
       "  </thead>\n",
       "  <tbody>\n",
       "    <tr>\n",
       "      <th>2013-02-28 18:28:01</th>\n",
       "      <td>1.0</td>\n",
       "      <td>27649635</td>\n",
       "      <td>u:FO</td>\n",
       "      <td>de</td>\n",
       "      <td>en</td>\n",
       "      <td>76390c1350a8dac31186187e2fe1e178</td>\n",
       "      <td>lernt/lernen&lt;vblex&gt;&lt;pri&gt;&lt;p3&gt;&lt;sg&gt;</td>\n",
       "      <td>6</td>\n",
       "      <td>4</td>\n",
       "      <td>2</td>\n",
       "      <td>2</td>\n",
       "      <td>31</td>\n",
       "      <td>both</td>\n",
       "    </tr>\n",
       "    <tr>\n",
       "      <th>2013-02-28 18:28:01</th>\n",
       "      <td>0.5</td>\n",
       "      <td>27649635</td>\n",
       "      <td>u:FO</td>\n",
       "      <td>de</td>\n",
       "      <td>en</td>\n",
       "      <td>7dfd7086f3671685e2cf1c1da72796d7</td>\n",
       "      <td>die/die&lt;det&gt;&lt;def&gt;&lt;f&gt;&lt;sg&gt;&lt;nom&gt;</td>\n",
       "      <td>4</td>\n",
       "      <td>4</td>\n",
       "      <td>2</td>\n",
       "      <td>1</td>\n",
       "      <td>31</td>\n",
       "      <td>both</td>\n",
       "    </tr>\n",
       "    <tr>\n",
       "      <th>2013-02-28 18:28:01</th>\n",
       "      <td>1.0</td>\n",
       "      <td>27649635</td>\n",
       "      <td>u:FO</td>\n",
       "      <td>de</td>\n",
       "      <td>en</td>\n",
       "      <td>35a54c25a2cda8127343f6a82e6f6b7d</td>\n",
       "      <td>mann/mann&lt;n&gt;&lt;m&gt;&lt;sg&gt;&lt;nom&gt;</td>\n",
       "      <td>5</td>\n",
       "      <td>4</td>\n",
       "      <td>1</td>\n",
       "      <td>1</td>\n",
       "      <td>31</td>\n",
       "      <td>both</td>\n",
       "    </tr>\n",
       "    <tr>\n",
       "      <th>2013-02-28 18:28:01</th>\n",
       "      <td>0.5</td>\n",
       "      <td>27649635</td>\n",
       "      <td>u:FO</td>\n",
       "      <td>de</td>\n",
       "      <td>en</td>\n",
       "      <td>0cf63ffe3dda158bc3dbd55682b355ae</td>\n",
       "      <td>frau/frau&lt;n&gt;&lt;f&gt;&lt;sg&gt;&lt;nom&gt;</td>\n",
       "      <td>6</td>\n",
       "      <td>5</td>\n",
       "      <td>2</td>\n",
       "      <td>1</td>\n",
       "      <td>31</td>\n",
       "      <td>both</td>\n",
       "    </tr>\n",
       "    <tr>\n",
       "      <th>2013-02-28 18:28:01</th>\n",
       "      <td>1.0</td>\n",
       "      <td>27649635</td>\n",
       "      <td>u:FO</td>\n",
       "      <td>de</td>\n",
       "      <td>en</td>\n",
       "      <td>84920990d78044db53c1b012f5bf9ab5</td>\n",
       "      <td>das/das&lt;det&gt;&lt;def&gt;&lt;nt&gt;&lt;sg&gt;&lt;nom&gt;</td>\n",
       "      <td>4</td>\n",
       "      <td>4</td>\n",
       "      <td>1</td>\n",
       "      <td>1</td>\n",
       "      <td>31</td>\n",
       "      <td>both</td>\n",
       "    </tr>\n",
       "  </tbody>\n",
       "</table>\n",
       "</div>"
      ],
      "text/plain": [
       "                     p_recall     delta user_id learning_language ui_language  \\\n",
       "timestamp                                                                       \n",
       "2013-02-28 18:28:01       1.0  27649635    u:FO                de          en   \n",
       "2013-02-28 18:28:01       0.5  27649635    u:FO                de          en   \n",
       "2013-02-28 18:28:01       1.0  27649635    u:FO                de          en   \n",
       "2013-02-28 18:28:01       0.5  27649635    u:FO                de          en   \n",
       "2013-02-28 18:28:01       1.0  27649635    u:FO                de          en   \n",
       "\n",
       "                                            lexeme_id  \\\n",
       "timestamp                                               \n",
       "2013-02-28 18:28:01  76390c1350a8dac31186187e2fe1e178   \n",
       "2013-02-28 18:28:01  7dfd7086f3671685e2cf1c1da72796d7   \n",
       "2013-02-28 18:28:01  35a54c25a2cda8127343f6a82e6f6b7d   \n",
       "2013-02-28 18:28:01  0cf63ffe3dda158bc3dbd55682b355ae   \n",
       "2013-02-28 18:28:01  84920990d78044db53c1b012f5bf9ab5   \n",
       "\n",
       "                                        lexeme_string  history_seen  \\\n",
       "timestamp                                                             \n",
       "2013-02-28 18:28:01  lernt/lernen<vblex><pri><p3><sg>             6   \n",
       "2013-02-28 18:28:01     die/die<det><def><f><sg><nom>             4   \n",
       "2013-02-28 18:28:01          mann/mann<n><m><sg><nom>             5   \n",
       "2013-02-28 18:28:01          frau/frau<n><f><sg><nom>             6   \n",
       "2013-02-28 18:28:01    das/das<det><def><nt><sg><nom>             4   \n",
       "\n",
       "                     history_correct  session_seen  session_correct  \\\n",
       "timestamp                                                             \n",
       "2013-02-28 18:28:01                4             2                2   \n",
       "2013-02-28 18:28:01                4             2                1   \n",
       "2013-02-28 18:28:01                4             1                1   \n",
       "2013-02-28 18:28:01                5             2                1   \n",
       "2013-02-28 18:28:01                4             1                1   \n",
       "\n",
       "                     user_activity _merge  \n",
       "timestamp                                  \n",
       "2013-02-28 18:28:01             31   both  \n",
       "2013-02-28 18:28:01             31   both  \n",
       "2013-02-28 18:28:01             31   both  \n",
       "2013-02-28 18:28:01             31   both  \n",
       "2013-02-28 18:28:01             31   both  "
      ]
     },
     "execution_count": 133,
     "metadata": {},
     "output_type": "execute_result"
    }
   ],
   "source": [
    "#set 'timestamp' as index\n",
    "pro_5_t5 = pro_5_t5.set_index('timestamp')\n",
    "pro_5_t5.head(5)\n",
    "#pro_5_t5.groupby('timestamp').plot('timestamp','user_activity')\n",
    "#ax=pro_5_t5.plot \n",
    "#ax.axhline(pro_5_t5.plot['temperature'].median(),color='r',linestyle='-')\n",
    "#plt.show()  \n",
    "#plt.figure(figsize=(12, 8))\n",
    "#plt.plot(pro_5_t5.groupby('user_id')['timestamp(day)'], pro_5_t5.groupby('user_id')['user_activity'])\n",
    "#plt.xlabel('timestamp(day)')\n",
    "#plt.ylabel('user_activity')"
   ]
  },
  {
   "cell_type": "code",
   "execution_count": 134,
   "metadata": {},
   "outputs": [
    {
     "data": {
      "text/html": [
       "<div>\n",
       "<style scoped>\n",
       "    .dataframe tbody tr th:only-of-type {\n",
       "        vertical-align: middle;\n",
       "    }\n",
       "\n",
       "    .dataframe tbody tr th {\n",
       "        vertical-align: top;\n",
       "    }\n",
       "\n",
       "    .dataframe thead th {\n",
       "        text-align: right;\n",
       "    }\n",
       "</style>\n",
       "<table border=\"1\" class=\"dataframe\">\n",
       "  <thead>\n",
       "    <tr style=\"text-align: right;\">\n",
       "      <th></th>\n",
       "      <th>p_recall</th>\n",
       "      <th>delta</th>\n",
       "      <th>user_id</th>\n",
       "      <th>learning_language</th>\n",
       "      <th>ui_language</th>\n",
       "      <th>lexeme_id</th>\n",
       "      <th>lexeme_string</th>\n",
       "      <th>history_seen</th>\n",
       "      <th>history_correct</th>\n",
       "      <th>session_seen</th>\n",
       "      <th>session_correct</th>\n",
       "      <th>user_activity</th>\n",
       "      <th>_merge</th>\n",
       "      <th>time</th>\n",
       "    </tr>\n",
       "    <tr>\n",
       "      <th>timestamp</th>\n",
       "      <th></th>\n",
       "      <th></th>\n",
       "      <th></th>\n",
       "      <th></th>\n",
       "      <th></th>\n",
       "      <th></th>\n",
       "      <th></th>\n",
       "      <th></th>\n",
       "      <th></th>\n",
       "      <th></th>\n",
       "      <th></th>\n",
       "      <th></th>\n",
       "      <th></th>\n",
       "      <th></th>\n",
       "    </tr>\n",
       "  </thead>\n",
       "  <tbody>\n",
       "    <tr>\n",
       "      <th>2013-03-01 00:00:57</th>\n",
       "      <td>1.0</td>\n",
       "      <td>883379</td>\n",
       "      <td>u:b5GM</td>\n",
       "      <td>it</td>\n",
       "      <td>en</td>\n",
       "      <td>588df91ad5322a90231c70306f83756b</td>\n",
       "      <td>negli/in&lt;pr&gt;+il&lt;det&gt;&lt;def&gt;&lt;m&gt;&lt;pl&gt;</td>\n",
       "      <td>9</td>\n",
       "      <td>8</td>\n",
       "      <td>5</td>\n",
       "      <td>5</td>\n",
       "      <td>668</td>\n",
       "      <td>both</td>\n",
       "      <td>00:00:57</td>\n",
       "    </tr>\n",
       "    <tr>\n",
       "      <th>2013-02-28 23:58:01</th>\n",
       "      <td>1.0</td>\n",
       "      <td>366009</td>\n",
       "      <td>u:iz9-</td>\n",
       "      <td>en</td>\n",
       "      <td>es</td>\n",
       "      <td>547bb1812414cec172b0afef5ca93fce</td>\n",
       "      <td>girl/girl&lt;n&gt;&lt;sg&gt;</td>\n",
       "      <td>4</td>\n",
       "      <td>4</td>\n",
       "      <td>4</td>\n",
       "      <td>4</td>\n",
       "      <td>7</td>\n",
       "      <td>both</td>\n",
       "      <td>23:58:01</td>\n",
       "    </tr>\n",
       "    <tr>\n",
       "      <th>2013-03-01 07:16:44</th>\n",
       "      <td>1.0</td>\n",
       "      <td>4145639</td>\n",
       "      <td>u:fmtD</td>\n",
       "      <td>fr</td>\n",
       "      <td>en</td>\n",
       "      <td>e3bebde2e7cee0fa6157219f3536d80f</td>\n",
       "      <td>femme/femme&lt;n&gt;&lt;f&gt;&lt;sg&gt;</td>\n",
       "      <td>29</td>\n",
       "      <td>26</td>\n",
       "      <td>2</td>\n",
       "      <td>2</td>\n",
       "      <td>59</td>\n",
       "      <td>both</td>\n",
       "      <td>07:16:44</td>\n",
       "    </tr>\n",
       "    <tr>\n",
       "      <th>2013-02-28 22:56:39</th>\n",
       "      <td>1.0</td>\n",
       "      <td>151</td>\n",
       "      <td>u:iGdQ</td>\n",
       "      <td>es</td>\n",
       "      <td>en</td>\n",
       "      <td>f0dfe0a3acd6a6a42701c33e93ba29d9</td>\n",
       "      <td>agua/agua&lt;n&gt;&lt;f&gt;&lt;sg&gt;</td>\n",
       "      <td>43</td>\n",
       "      <td>36</td>\n",
       "      <td>2</td>\n",
       "      <td>2</td>\n",
       "      <td>465</td>\n",
       "      <td>both</td>\n",
       "      <td>22:56:39</td>\n",
       "    </tr>\n",
       "    <tr>\n",
       "      <th>2013-03-01 16:41:29</th>\n",
       "      <td>0.0</td>\n",
       "      <td>148341</td>\n",
       "      <td>u:in3u</td>\n",
       "      <td>es</td>\n",
       "      <td>en</td>\n",
       "      <td>5638bf8141303431c5688df91a213666</td>\n",
       "      <td>caminan/caminar&lt;vblex&gt;&lt;pri&gt;&lt;p3&gt;&lt;pl&gt;</td>\n",
       "      <td>13</td>\n",
       "      <td>12</td>\n",
       "      <td>1</td>\n",
       "      <td>0</td>\n",
       "      <td>231</td>\n",
       "      <td>both</td>\n",
       "      <td>16:41:29</td>\n",
       "    </tr>\n",
       "  </tbody>\n",
       "</table>\n",
       "</div>"
      ],
      "text/plain": [
       "                     p_recall    delta user_id learning_language ui_language  \\\n",
       "timestamp                                                                      \n",
       "2013-03-01 00:00:57       1.0   883379  u:b5GM                it          en   \n",
       "2013-02-28 23:58:01       1.0   366009  u:iz9-                en          es   \n",
       "2013-03-01 07:16:44       1.0  4145639  u:fmtD                fr          en   \n",
       "2013-02-28 22:56:39       1.0      151  u:iGdQ                es          en   \n",
       "2013-03-01 16:41:29       0.0   148341  u:in3u                es          en   \n",
       "\n",
       "                                            lexeme_id  \\\n",
       "timestamp                                               \n",
       "2013-03-01 00:00:57  588df91ad5322a90231c70306f83756b   \n",
       "2013-02-28 23:58:01  547bb1812414cec172b0afef5ca93fce   \n",
       "2013-03-01 07:16:44  e3bebde2e7cee0fa6157219f3536d80f   \n",
       "2013-02-28 22:56:39  f0dfe0a3acd6a6a42701c33e93ba29d9   \n",
       "2013-03-01 16:41:29  5638bf8141303431c5688df91a213666   \n",
       "\n",
       "                                           lexeme_string  history_seen  \\\n",
       "timestamp                                                                \n",
       "2013-03-01 00:00:57     negli/in<pr>+il<det><def><m><pl>             9   \n",
       "2013-02-28 23:58:01                     girl/girl<n><sg>             4   \n",
       "2013-03-01 07:16:44                femme/femme<n><f><sg>            29   \n",
       "2013-02-28 22:56:39                  agua/agua<n><f><sg>            43   \n",
       "2013-03-01 16:41:29  caminan/caminar<vblex><pri><p3><pl>            13   \n",
       "\n",
       "                     history_correct  session_seen  session_correct  \\\n",
       "timestamp                                                             \n",
       "2013-03-01 00:00:57                8             5                5   \n",
       "2013-02-28 23:58:01                4             4                4   \n",
       "2013-03-01 07:16:44               26             2                2   \n",
       "2013-02-28 22:56:39               36             2                2   \n",
       "2013-03-01 16:41:29               12             1                0   \n",
       "\n",
       "                     user_activity _merge      time  \n",
       "timestamp                                            \n",
       "2013-03-01 00:00:57            668   both  00:00:57  \n",
       "2013-02-28 23:58:01              7   both  23:58:01  \n",
       "2013-03-01 07:16:44             59   both  07:16:44  \n",
       "2013-02-28 22:56:39            465   both  22:56:39  \n",
       "2013-03-01 16:41:29            231   both  16:41:29  "
      ]
     },
     "execution_count": 134,
     "metadata": {},
     "output_type": "execute_result"
    }
   ],
   "source": [
    "#generate time feature from index\n",
    "#如果有不同年相同的天怎么办？\n",
    "pro_5_t5['time'] = pro_5_t5.index.time\n",
    "pro_5_t5.sample(5,random_state = 0)"
   ]
  },
  {
   "cell_type": "code",
   "execution_count": 135,
   "metadata": {},
   "outputs": [
    {
     "data": {
      "text/plain": [
       "<AxesSubplot:xlabel='time'>"
      ]
     },
     "execution_count": 135,
     "metadata": {},
     "output_type": "execute_result"
    },
    {
     "data": {
      "image/png": "[encoded data removed]",
      "text/plain": [
       "<Figure size 360x216 with 1 Axes>"
      ]
     },
     "metadata": {},
     "output_type": "display_data"
    }
   ],
   "source": [
    "# observe user activity during a day, you can see user is active with more activity in app from around 12:00 to 16:00\n",
    "pro_5_t5.plot('time' , 'user_activity')"
   ]
  },
  {
   "cell_type": "markdown",
   "metadata": {},
   "source": [
    "#### 2. Visualize each interface language users daily activity pattern onto a single plot. "
   ]
  },
  {
   "cell_type": "code",
   "execution_count": 136,
   "metadata": {},
   "outputs": [
    {
     "data": {
      "text/plain": [
       "datetime.datetime(2013, 2, 28, 12, 28, 1)"
      ]
     },
     "execution_count": 136,
     "metadata": {},
     "output_type": "execute_result"
    }
   ],
   "source": [
    "# hint: use rolling window here\n",
    "# Type you answer below \n",
    "dt.datetime.fromtimestamp(pro_5.timestamp.min())"
   ]
  },
  {
   "cell_type": "markdown",
   "metadata": {},
   "source": [
    "#### hint: result plot would look like this\n",
    "![image.png](attachment:image.png)"
   ]
  },
  {
   "cell_type": "code",
   "execution_count": 138,
   "metadata": {},
   "outputs": [
    {
     "data": {
      "image/png": "[encoded data removed]",
      "text/plain": [
       "<Figure size 360x216 with 1 Axes>"
      ]
     },
     "metadata": {},
     "output_type": "display_data"
    }
   ],
   "source": [
    "win = 10 ## set the window as 10 min\n",
    "hours = 60\n",
    "plt.plot(pd.Series(np.round((pro_5[pro_5.ui_language == 'en'].timestamp - pro_5.timestamp.min())/60.0,0).value_counts().sort_index()).rolling(window=win).mean())\n",
    "plt.plot(pd.Series(np.round((pro_5[pro_5.ui_language == 'es'].timestamp - pro_5.timestamp.min())/60.0,0).value_counts().sort_index()).rolling(window=win).mean())\n",
    "plt.plot(pd.Series(np.round((pro_5[pro_5.ui_language == 'it'].timestamp - pro_5.timestamp.min())/60.0,0).value_counts().sort_index()).rolling(window=win).mean())\n",
    "plt.plot(pd.Series(np.round((pro_5[pro_5.ui_language == 'pt'].timestamp - pro_5.timestamp.min())/60.0,0).value_counts().sort_index()).rolling(window=win).mean())\n",
    "plt.legend(['Eng','Esp','It','Pt'])\n",
    "plt.xticks([0,4*hours,8*hours,12*hours,16*hours,20*hours,24*hours],['10:30am','2:30pm','6:30pm','10:30pm','2:30am','6:30am','10:30am'])\n",
    "plt.show()"
   ]
  },
  {
   "cell_type": "code",
   "execution_count": null,
   "metadata": {},
   "outputs": [],
   "source": []
  }
 ],
 "metadata": {
  "kernel_info": {
   "name": "python3"
  },
  "kernelspec": {
   "display_name": "Python 3 (ipykernel)",
   "language": "python",
   "name": "python3"
  },
  "language_info": {
   "codemirror_mode": {
    "name": "ipython",
    "version": 3
   },
   "file_extension": ".py",
   "mimetype": "text/x-python",
   "name": "python",
   "nbconvert_exporter": "python",
   "pygments_lexer": "ipython3",
   "version": "3.9.12"
  },
  "nteract": {
   "version": "0.21.0"
  },
  "toc": {
   "nav_menu": {},
   "number_sections": true,
   "sideBar": true,
   "skip_h1_title": false,
   "toc_cell": false,
   "toc_position": {},
   "toc_section_display": "block",
   "toc_window_display": false
  }
 },
 "nbformat": 4,
 "nbformat_minor": 2
}
